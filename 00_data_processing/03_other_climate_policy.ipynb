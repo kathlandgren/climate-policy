{
 "cells": [
  {
   "cell_type": "code",
   "execution_count": 2,
   "id": "3c28ab4a",
   "metadata": {},
   "outputs": [],
   "source": [
    "\n",
    "import matplotlib.pyplot as plt\n",
    "import pandas as pd\n",
    "import numpy as np\n",
    "import pickle\n",
    "import seaborn as sns\n",
    "from pyprojroot import here"
   ]
  },
  {
   "cell_type": "markdown",
   "id": "9f1d90c7",
   "metadata": {},
   "source": [
    "## Format policies flagged in the \"Other climate policy\" category"
   ]
  },
  {
   "cell_type": "code",
   "execution_count": 3,
   "id": "47cc11e1",
   "metadata": {},
   "outputs": [],
   "source": [
    "all_policies = ['Paris Agreement', 'Green New Deal', 'Executive action', 'Emergency declaration',\n",
    "                  '(De)regulation and laws', 'Renewable energy', 'Emission reduction',\n",
    "                  'Oil and gas industry', 'Other climate policy']\n",
    "\n",
    "no_other_policies = ['Paris Agreement', 'Green New Deal', 'Executive action', 'Emergency declaration',\n",
    "                  '(De)regulation and laws', 'Renewable energy', 'Emission reduction',\n",
    "                  'Oil and gas industry']\n",
    "\n",
    "only_concrete_policies= ['Paris Agreement', 'Green New Deal', 'Emergency declaration',\n",
    "                  'Renewable energy', 'Emission reduction',\n",
    "                  'Oil and gas industry', 'Other climate policy']\n",
    "\n",
    "regulation_col = '(De)regulation and laws'\n",
    "executive_action_col = 'Executive action'\n"
   ]
  },
  {
   "cell_type": "code",
   "execution_count": 5,
   "id": "9ab1bd85",
   "metadata": {},
   "outputs": [],
   "source": [
    "\n",
    "\n",
    "# Read the annotation JSON file into a DataFrame\n",
    "complete_df = pd.read_json(here(\"data/individual_policy_data/policy-recoding-2025-05-21-complete.json\"))\n",
    "df_with_inner_id = pd.read_json(here(\"data/individual_policy_data/policy-at-2025-04-27.json\"))\n",
    "# Extract internal_id from the nested 'data' field\n",
    "df_with_inner_id['internal_id'] = df_with_inner_id['data'].apply(lambda x: x['internal_id'])\n",
    "\n",
    "# Make a mapping from internal_id -> inner_id\n",
    "internal_to_inner = dict(zip(df_with_inner_id['internal_id'], df_with_inner_id['inner_id']))\n"
   ]
  },
  {
   "cell_type": "code",
   "execution_count": 6,
   "id": "41118742",
   "metadata": {},
   "outputs": [],
   "source": [
    "# Filter out NaN values in 'other-explained'\n",
    "non_nan_other_explained_df = complete_df.loc[complete_df['other_explained'].notna(), ['internal_id', 'annotator', 'other_explained']]\n",
    "non_nan_other_explained_df['inner_id'] = non_nan_other_explained_df['internal_id'].map(internal_to_inner)\n",
    "\n",
    "\n",
    "cols = ['inner_id','internal_id', 'other_explained']\n",
    "non_nan_other_explained_df = non_nan_other_explained_df[cols]\n",
    "non_nan_other_explained_df.to_csv('output/other_policies_mentioned.csv')\n"
   ]
  },
  {
   "cell_type": "code",
   "execution_count": 7,
   "id": "97e7d1eb",
   "metadata": {},
   "outputs": [],
   "source": [
    "other_df = pd.read_csv(here('data/individual_policy_data/other_climate_policy_summary.csv'))"
   ]
  },
  {
   "cell_type": "code",
   "execution_count": 8,
   "id": "31ae6b78",
   "metadata": {},
   "outputs": [],
   "source": [
    "other_df.drop(columns=['Notes'], inplace=True)"
   ]
  },
  {
   "cell_type": "code",
   "execution_count": 9,
   "id": "2c89ad7d",
   "metadata": {},
   "outputs": [],
   "source": [
    "other_df.sort_values(by='Number of transcripts', ascending=False, inplace=True)"
   ]
  },
  {
   "cell_type": "code",
   "execution_count": 10,
   "id": "51ecfea1",
   "metadata": {},
   "outputs": [],
   "source": [
    "other_df[other_df['Policy?']==True][['Specifics','Number of transcripts']].to_csv('output/other_climate_policy_SI_table.csv',index=False)"
   ]
  },
  {
   "cell_type": "code",
   "execution_count": 11,
   "id": "3fadd866",
   "metadata": {},
   "outputs": [],
   "source": [
    "\n",
    "\n",
    "# Replace specifics with Sup-category when Sup-category is not NaN\n",
    "other_df['Specifics'] = np.where(other_df['Sup-category'].notna(), other_df['Sup-category'], other_df['Specifics'])\n"
   ]
  },
  {
   "cell_type": "code",
   "execution_count": 12,
   "id": "8a2c7c8c",
   "metadata": {},
   "outputs": [],
   "source": [
    "other_df = other_df.drop(columns='Sup-category')"
   ]
  },
  {
   "cell_type": "code",
   "execution_count": 13,
   "id": "c4134f52",
   "metadata": {},
   "outputs": [],
   "source": [
    "other_df.rename(columns={'Specifics': 'Policy annotation', 'Policy?': 'Policy or not'}, inplace=True)"
   ]
  },
  {
   "cell_type": "code",
   "execution_count": 14,
   "id": "89d88687",
   "metadata": {},
   "outputs": [],
   "source": [
    "other_df.to_csv('output/other_climate_policy_clean.csv', index=False)"
   ]
  }
 ],
 "metadata": {
  "kernelspec": {
   "display_name": ".venv",
   "language": "python",
   "name": "python3"
  },
  "language_info": {
   "codemirror_mode": {
    "name": "ipython",
    "version": 3
   },
   "file_extension": ".py",
   "mimetype": "text/x-python",
   "name": "python",
   "nbconvert_exporter": "python",
   "pygments_lexer": "ipython3",
   "version": "3.13.1"
  }
 },
 "nbformat": 4,
 "nbformat_minor": 5
}
