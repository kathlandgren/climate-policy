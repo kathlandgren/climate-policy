{
 "cells": [
  {
   "cell_type": "code",
   "execution_count": 102,
   "id": "2a350e26",
   "metadata": {},
   "outputs": [],
   "source": [
    "\n",
    "import matplotlib.pyplot as plt\n",
    "import pandas as pd\n",
    "import pickle\n",
    "import seaborn as sns\n",
    "from pyprojroot import here\n"
   ]
  },
  {
   "cell_type": "markdown",
   "id": "8ae7f2a4",
   "metadata": {},
   "source": [
    "## Define policy category lists"
   ]
  },
  {
   "cell_type": "code",
   "execution_count": 103,
   "id": "72e88c9e",
   "metadata": {},
   "outputs": [],
   "source": [
    "all_policies = ['Paris Agreement', 'Green New Deal', 'Executive action', 'Emergency declaration',\n",
    "                  '(De)regulation and laws', 'Renewable energy', 'Emission reduction',\n",
    "                  'Oil and gas industry', 'Other climate policy']\n",
    "\n",
    "no_other_policies = ['Paris Agreement', 'Green New Deal', 'Executive action', 'Emergency declaration',\n",
    "                  '(De)regulation and laws', 'Renewable energy', 'Emission reduction',\n",
    "                  'Oil and gas industry']\n",
    "\n",
    "only_concrete_policies= ['Paris Agreement', 'Green New Deal', 'Emergency declaration',\n",
    "                  'Renewable energy', 'Emission reduction',\n",
    "                  'Oil and gas industry', 'Other climate policy']\n",
    "\n",
    "regulation_col = '(De)regulation and laws'\n",
    "executive_action_col = 'Executive action'\n"
   ]
  },
  {
   "cell_type": "markdown",
   "id": "542cd40b",
   "metadata": {},
   "source": [
    "## Import data"
   ]
  },
  {
   "cell_type": "code",
   "execution_count": 104,
   "id": "443d5224",
   "metadata": {},
   "outputs": [],
   "source": [
    "\n",
    "# Read the annotation JSON file into a DataFrame\n",
    "complete_df = pd.read_json(here(\"data/individual_policy_data/policy-recoding-2025-05-21-complete.json\"))\n",
    "changes_df =  pd.read_csv(here(\"data/individual_policy_data/KL_JOG_cleanup_changes.csv\"))\n",
    "Q3_df = pd.read_csv(here(\"data/processed_Q3_df/Q3_df.csv\"))\n"
   ]
  },
  {
   "cell_type": "code",
   "execution_count": 105,
   "id": "6545c9a5",
   "metadata": {},
   "outputs": [],
   "source": [
    "Q3_df = Q3_df[Q3_df['policy'] != 'Does not mention'].copy()\n"
   ]
  },
  {
   "cell_type": "code",
   "execution_count": 106,
   "id": "48ef6e42",
   "metadata": {},
   "outputs": [
    {
     "name": "stdout",
     "output_type": "stream",
     "text": [
      "Number of transcripts annotated once: 119\n",
      "Number of transcripts annotated twice: 629\n",
      "Number of transcripts annotated thrice: 2\n"
     ]
    }
   ],
   "source": [
    "# Count the number of times each internal_id appears\n",
    "id_counts = Q3_df['internal_id'].value_counts()\n",
    "\n",
    "# Count how many appear once vs. twice\n",
    "transcript_annotation_counts = id_counts.value_counts().sort_index()\n",
    "\n",
    "# Display results\n",
    "print(\"Number of transcripts annotated once:\", transcript_annotation_counts.get(1, 0))\n",
    "print(\"Number of transcripts annotated twice:\", transcript_annotation_counts.get(2, 0))\n",
    "print(\"Number of transcripts annotated thrice:\", transcript_annotation_counts.get(3, 0))\n"
   ]
  },
  {
   "cell_type": "markdown",
   "id": "2547f3ff",
   "metadata": {},
   "source": [
    "## Reformat data\n",
    "This notebook reformats the data with post-hoc coding updates."
   ]
  },
  {
   "cell_type": "code",
   "execution_count": 107,
   "id": "c7f8104e",
   "metadata": {},
   "outputs": [],
   "source": [
    "Q3_grouped = Q3_df.groupby(['internal_id', 'media_outlet'], as_index=False).agg({\n",
    "    'policy': list\n",
    "})"
   ]
  },
  {
   "cell_type": "code",
   "execution_count": 108,
   "id": "0cf7f94b",
   "metadata": {},
   "outputs": [],
   "source": [
    "# Normalize policy column to always be a list\n",
    "def standardize_policy(entry):\n",
    "    if isinstance(entry, dict) and 'choices' in entry:\n",
    "        return entry['choices']\n",
    "    elif isinstance(entry, str):\n",
    "        return [entry]\n",
    "    elif isinstance(entry, list):\n",
    "        return entry\n",
    "    else:\n",
    "        return []\n",
    "\n",
    "\n",
    "# Apply normalization\n",
    "complete_df['policy'] = complete_df['policy'].apply(standardize_policy)\n",
    "df = complete_df[['internal_id','annotator','policy']]"
   ]
  },
  {
   "cell_type": "code",
   "execution_count": 109,
   "id": "707631c3",
   "metadata": {},
   "outputs": [
    {
     "name": "stderr",
     "output_type": "stream",
     "text": [
      "/var/folders/v0/mrdbnbz979z112bjxxhzr3zh0000gn/T/ipykernel_31029/2247853040.py:5: SettingWithCopyWarning: \n",
      "A value is trying to be set on a copy of a slice from a DataFrame.\n",
      "Try using .loc[row_indexer,col_indexer] = value instead\n",
      "\n",
      "See the caveats in the documentation: https://pandas.pydata.org/pandas-docs/stable/user_guide/indexing.html#returning-a-view-versus-a-copy\n",
      "  df[\"policy_encoded\"] = df[\"policy\"].apply(lambda x: one_hot_encode(x, all_policies))\n"
     ]
    }
   ],
   "source": [
    "# One-hot encode each policy annotation\n",
    "def one_hot_encode(policies, all_policies):\n",
    "    return [1 if policy in policies else 0 for policy in all_policies]\n",
    "\n",
    "df[\"policy_encoded\"] = df[\"policy\"].apply(lambda x: one_hot_encode(x, all_policies))"
   ]
  },
  {
   "cell_type": "code",
   "execution_count": 110,
   "id": "7e4a3344",
   "metadata": {},
   "outputs": [],
   "source": [
    "policy_df = pd.DataFrame(df[\"policy_encoded\"].tolist(), columns=all_policies)\n",
    "df_binary = pd.concat([df.drop(columns=[\"policy_encoded\"]), policy_df], axis=1)\n",
    "df_binary.to_csv(\"output/policy_category_df_binary.csv\", index=False)"
   ]
  },
  {
   "cell_type": "code",
   "execution_count": 111,
   "id": "fdff2b86",
   "metadata": {},
   "outputs": [
    {
     "data": {
      "text/plain": [
       "2766"
      ]
     },
     "execution_count": 111,
     "metadata": {},
     "output_type": "execute_result"
    }
   ],
   "source": [
    "merged_df = pd.merge(Q3_df, df_binary, on='internal_id', how='inner')\n",
    "merged_df = merged_df.rename(columns={'policy_x': 'response'})\n",
    "len(merged_df)"
   ]
  },
  {
   "cell_type": "code",
   "execution_count": 112,
   "id": "9b2806e6",
   "metadata": {},
   "outputs": [
    {
     "name": "stdout",
     "output_type": "stream",
     "text": [
      "Number of unique internal_ids to update: 16\n"
     ]
    }
   ],
   "source": [
    "\n",
    "changes_df_filled = changes_df.fillna(0)\n",
    "\n",
    "# Identify internal_ids to update\n",
    "ids_to_update = changes_df_filled['internal_id'].unique()\n",
    "print(f\"Number of unique internal_ids to update: {len(ids_to_update)}\")\n",
    "\n",
    "#  Remove those rows from merged_df\n",
    "filtered_merged_df = merged_df[~merged_df['internal_id'].isin(ids_to_update)].copy()\n",
    "\n",
    "# Create replacement rows from changes_df\n",
    "policy_columns = ['Paris Agreement', 'Green New Deal', 'Executive action', \n",
    "                  'Emergency declaration', '(De)regulation and laws', \n",
    "                  'Renewable energy', 'Emission reduction', \n",
    "                  'Oil and gas industry', 'Other climate policy']\n",
    "\n",
    "replacement_rows = changes_df_filled[['internal_id', 'Q3_update'] + policy_columns].copy()\n",
    "replacement_rows = replacement_rows.rename(columns={'Q3_update': 'response'})\n",
    "\n",
    "# Merge in media_outlet from merged_df using internal_id\n",
    "media_outlet_map = merged_df[['internal_id', 'media_outlet']].drop_duplicates()\n",
    "replacement_rows = replacement_rows.merge(media_outlet_map, on='internal_id', how='left')\n",
    "\n",
    "# Add a flag for annotator being absent since this is a post-hoc team update by KL and JOG\n",
    "replacement_rows['annotator'] = None \n",
    "\n",
    "# Add any missing columns from merged_df\n",
    "for col in merged_df.columns:\n",
    "    if col not in replacement_rows.columns:\n",
    "        replacement_rows[col] = None\n",
    "\n",
    "# Reorder to match merged_df columns\n",
    "replacement_rows = replacement_rows[merged_df.columns]\n",
    "\n",
    "# Concatenate \n",
    "updated_df = pd.concat([filtered_merged_df, replacement_rows], ignore_index=True)\n",
    "updated_df=updated_df.drop(columns= ['policy_y'])\n"
   ]
  },
  {
   "cell_type": "code",
   "execution_count": 113,
   "id": "a4f21289",
   "metadata": {},
   "outputs": [],
   "source": [
    "merged_long = updated_df.melt(id_vars=['internal_id', 'media_outlet', 'response'],\n",
    "                          value_vars=all_policies,\n",
    "                          var_name='policy_category',\n",
    "                          value_name='is_mentioned')\n",
    "\n",
    "# Keep only policies that were mentioned\n",
    "merged_long = merged_long[merged_long['is_mentioned'] == True]"
   ]
  },
  {
   "cell_type": "code",
   "execution_count": 114,
   "id": "79274582",
   "metadata": {},
   "outputs": [],
   "source": [
    "\n",
    "\n",
    "merged_long['internal_id'] = merged_long['internal_id'].astype(int)\n",
    "\n",
    "# Count unique internal_ids per (policy_category, media_outlet)\n",
    "grouped = (\n",
    "    merged_long.groupby(['policy_category', 'media_outlet'])['internal_id']\n",
    "    .nunique()\n",
    "    .reset_index()\n",
    ")\n",
    "\n",
    "# Pivot the table to have policies as rows, outlets as columns\n",
    "policy_by_outlet = grouped.pivot_table(\n",
    "    index='policy_category',\n",
    "    columns='media_outlet',\n",
    "    values='internal_id',\n",
    "    fill_value=0\n",
    ").astype(int)\n",
    "\n",
    "policy_by_outlet.to_csv('output/policy_transcript_counts_by_outlet.csv', index=True)"
   ]
  },
  {
   "cell_type": "code",
   "execution_count": 115,
   "id": "9174ef17",
   "metadata": {},
   "outputs": [],
   "source": [
    "naive_counts = pd.crosstab(index=merged_long['policy_category'],\n",
    "                          columns=merged_long['response'])"
   ]
  },
  {
   "cell_type": "code",
   "execution_count": 116,
   "id": "b76f9dd2",
   "metadata": {},
   "outputs": [
    {
     "data": {
      "text/html": [
       "<div>\n",
       "<style scoped>\n",
       "    .dataframe tbody tr th:only-of-type {\n",
       "        vertical-align: middle;\n",
       "    }\n",
       "\n",
       "    .dataframe tbody tr th {\n",
       "        vertical-align: top;\n",
       "    }\n",
       "\n",
       "    .dataframe thead th {\n",
       "        text-align: right;\n",
       "    }\n",
       "</style>\n",
       "<table border=\"1\" class=\"dataframe\">\n",
       "  <thead>\n",
       "    <tr style=\"text-align: right;\">\n",
       "      <th>response</th>\n",
       "      <th>Debate</th>\n",
       "      <th>Neutral</th>\n",
       "      <th>Opposes</th>\n",
       "      <th>Supports</th>\n",
       "    </tr>\n",
       "    <tr>\n",
       "      <th>policy_category</th>\n",
       "      <th></th>\n",
       "      <th></th>\n",
       "      <th></th>\n",
       "      <th></th>\n",
       "    </tr>\n",
       "  </thead>\n",
       "  <tbody>\n",
       "    <tr>\n",
       "      <th>(De)regulation and laws</th>\n",
       "      <td>26</td>\n",
       "      <td>116</td>\n",
       "      <td>111</td>\n",
       "      <td>258</td>\n",
       "    </tr>\n",
       "    <tr>\n",
       "      <th>Emergency declaration</th>\n",
       "      <td>6</td>\n",
       "      <td>14</td>\n",
       "      <td>19</td>\n",
       "      <td>28</td>\n",
       "    </tr>\n",
       "    <tr>\n",
       "      <th>Emission reduction</th>\n",
       "      <td>49</td>\n",
       "      <td>203</td>\n",
       "      <td>195</td>\n",
       "      <td>622</td>\n",
       "    </tr>\n",
       "    <tr>\n",
       "      <th>Executive action</th>\n",
       "      <td>70</td>\n",
       "      <td>649</td>\n",
       "      <td>415</td>\n",
       "      <td>975</td>\n",
       "    </tr>\n",
       "    <tr>\n",
       "      <th>Green New Deal</th>\n",
       "      <td>24</td>\n",
       "      <td>90</td>\n",
       "      <td>247</td>\n",
       "      <td>197</td>\n",
       "    </tr>\n",
       "    <tr>\n",
       "      <th>Oil and gas industry</th>\n",
       "      <td>57</td>\n",
       "      <td>250</td>\n",
       "      <td>325</td>\n",
       "      <td>533</td>\n",
       "    </tr>\n",
       "    <tr>\n",
       "      <th>Other climate policy</th>\n",
       "      <td>31</td>\n",
       "      <td>122</td>\n",
       "      <td>59</td>\n",
       "      <td>215</td>\n",
       "    </tr>\n",
       "    <tr>\n",
       "      <th>Paris Agreement</th>\n",
       "      <td>38</td>\n",
       "      <td>341</td>\n",
       "      <td>178</td>\n",
       "      <td>598</td>\n",
       "    </tr>\n",
       "    <tr>\n",
       "      <th>Renewable energy</th>\n",
       "      <td>39</td>\n",
       "      <td>184</td>\n",
       "      <td>201</td>\n",
       "      <td>595</td>\n",
       "    </tr>\n",
       "  </tbody>\n",
       "</table>\n",
       "</div>"
      ],
      "text/plain": [
       "response                 Debate  Neutral  Opposes  Supports\n",
       "policy_category                                            \n",
       "(De)regulation and laws      26      116      111       258\n",
       "Emergency declaration         6       14       19        28\n",
       "Emission reduction           49      203      195       622\n",
       "Executive action             70      649      415       975\n",
       "Green New Deal               24       90      247       197\n",
       "Oil and gas industry         57      250      325       533\n",
       "Other climate policy         31      122       59       215\n",
       "Paris Agreement              38      341      178       598\n",
       "Renewable energy             39      184      201       595"
      ]
     },
     "execution_count": 116,
     "metadata": {},
     "output_type": "execute_result"
    }
   ],
   "source": [
    "naive_counts #non-normalized"
   ]
  },
  {
   "cell_type": "code",
   "execution_count": 117,
   "id": "26fe6f4d",
   "metadata": {},
   "outputs": [],
   "source": [
    "annotation_weighted_equally_counts = naive_counts/4"
   ]
  },
  {
   "cell_type": "code",
   "execution_count": 118,
   "id": "57275006",
   "metadata": {},
   "outputs": [
    {
     "data": {
      "text/html": [
       "<div>\n",
       "<style scoped>\n",
       "    .dataframe tbody tr th:only-of-type {\n",
       "        vertical-align: middle;\n",
       "    }\n",
       "\n",
       "    .dataframe tbody tr th {\n",
       "        vertical-align: top;\n",
       "    }\n",
       "\n",
       "    .dataframe thead th {\n",
       "        text-align: right;\n",
       "    }\n",
       "</style>\n",
       "<table border=\"1\" class=\"dataframe\">\n",
       "  <thead>\n",
       "    <tr style=\"text-align: right;\">\n",
       "      <th>response</th>\n",
       "      <th>Debate</th>\n",
       "      <th>Neutral</th>\n",
       "      <th>Opposes</th>\n",
       "      <th>Supports</th>\n",
       "    </tr>\n",
       "    <tr>\n",
       "      <th>policy_category</th>\n",
       "      <th></th>\n",
       "      <th></th>\n",
       "      <th></th>\n",
       "      <th></th>\n",
       "    </tr>\n",
       "  </thead>\n",
       "  <tbody>\n",
       "    <tr>\n",
       "      <th>(De)regulation and laws</th>\n",
       "      <td>6.50</td>\n",
       "      <td>29.00</td>\n",
       "      <td>27.75</td>\n",
       "      <td>64.50</td>\n",
       "    </tr>\n",
       "    <tr>\n",
       "      <th>Emergency declaration</th>\n",
       "      <td>1.50</td>\n",
       "      <td>3.50</td>\n",
       "      <td>4.75</td>\n",
       "      <td>7.00</td>\n",
       "    </tr>\n",
       "    <tr>\n",
       "      <th>Emission reduction</th>\n",
       "      <td>12.25</td>\n",
       "      <td>50.75</td>\n",
       "      <td>48.75</td>\n",
       "      <td>155.50</td>\n",
       "    </tr>\n",
       "    <tr>\n",
       "      <th>Executive action</th>\n",
       "      <td>17.50</td>\n",
       "      <td>162.25</td>\n",
       "      <td>103.75</td>\n",
       "      <td>243.75</td>\n",
       "    </tr>\n",
       "    <tr>\n",
       "      <th>Green New Deal</th>\n",
       "      <td>6.00</td>\n",
       "      <td>22.50</td>\n",
       "      <td>61.75</td>\n",
       "      <td>49.25</td>\n",
       "    </tr>\n",
       "    <tr>\n",
       "      <th>Oil and gas industry</th>\n",
       "      <td>14.25</td>\n",
       "      <td>62.50</td>\n",
       "      <td>81.25</td>\n",
       "      <td>133.25</td>\n",
       "    </tr>\n",
       "    <tr>\n",
       "      <th>Other climate policy</th>\n",
       "      <td>7.75</td>\n",
       "      <td>30.50</td>\n",
       "      <td>14.75</td>\n",
       "      <td>53.75</td>\n",
       "    </tr>\n",
       "    <tr>\n",
       "      <th>Paris Agreement</th>\n",
       "      <td>9.50</td>\n",
       "      <td>85.25</td>\n",
       "      <td>44.50</td>\n",
       "      <td>149.50</td>\n",
       "    </tr>\n",
       "    <tr>\n",
       "      <th>Renewable energy</th>\n",
       "      <td>9.75</td>\n",
       "      <td>46.00</td>\n",
       "      <td>50.25</td>\n",
       "      <td>148.75</td>\n",
       "    </tr>\n",
       "  </tbody>\n",
       "</table>\n",
       "</div>"
      ],
      "text/plain": [
       "response                 Debate  Neutral  Opposes  Supports\n",
       "policy_category                                            \n",
       "(De)regulation and laws    6.50    29.00    27.75     64.50\n",
       "Emergency declaration      1.50     3.50     4.75      7.00\n",
       "Emission reduction        12.25    50.75    48.75    155.50\n",
       "Executive action          17.50   162.25   103.75    243.75\n",
       "Green New Deal             6.00    22.50    61.75     49.25\n",
       "Oil and gas industry      14.25    62.50    81.25    133.25\n",
       "Other climate policy       7.75    30.50    14.75     53.75\n",
       "Paris Agreement            9.50    85.25    44.50    149.50\n",
       "Renewable energy           9.75    46.00    50.25    148.75"
      ]
     },
     "execution_count": 118,
     "metadata": {},
     "output_type": "execute_result"
    }
   ],
   "source": [
    "annotation_weighted_equally_counts"
   ]
  },
  {
   "cell_type": "code",
   "execution_count": 119,
   "id": "423e5a23",
   "metadata": {},
   "outputs": [],
   "source": [
    "# Reset index and rename the index column\n",
    "annotation_weighted_equally_counts = annotation_weighted_equally_counts.reset_index().rename(columns={'response': 'policy_category'})\n",
    "\n",
    "# Reorder columns\n",
    "column_order = ['policy_category', 'Supports', 'Neutral', 'Debate', 'Opposes']\n",
    "annotation_weighted_equally_counts_reordered = annotation_weighted_equally_counts[column_order]\n",
    "\n",
    "# Save to CSV\n",
    "annotation_weighted_equally_counts_reordered.to_csv('output/policy_valence_summary_annotation_weighing.csv', index=False)"
   ]
  },
  {
   "cell_type": "markdown",
   "id": "fedee559",
   "metadata": {},
   "source": [
    "## Set up code to weigh each transcript equally or each annotation equally"
   ]
  },
  {
   "cell_type": "code",
   "execution_count": 120,
   "id": "cb1e063d",
   "metadata": {},
   "outputs": [],
   "source": [
    "# Number of stance (Q3) annotators per transcript\n",
    "q3_annotator_counts = Q3_df.groupby('internal_id')['internal_id'].count()\n",
    "\n",
    "# Number of policy annotators per transcript\n",
    "policy_annotator_counts = df_binary.groupby('internal_id')['internal_id'].count()\n",
    "\n",
    "# Combine into a DataFrame to compute possible annotator pairings\n",
    "annotator_combo_counts = pd.DataFrame({\n",
    "    'q3_n': q3_annotator_counts,\n",
    "    'policy_n': policy_annotator_counts\n",
    "})\n",
    "annotator_combo_counts['num_annotator_pairs'] = annotator_combo_counts['q3_n'] * annotator_combo_counts['policy_n']\n"
   ]
  },
  {
   "cell_type": "code",
   "execution_count": 121,
   "id": "0b7536c7",
   "metadata": {},
   "outputs": [],
   "source": [
    "# Remelt from merged_df, this time with a new name\n",
    "melted_weighted = merged_df.melt(\n",
    "    id_vars=['internal_id', 'media_outlet', 'response'],\n",
    "    value_vars=all_policies,\n",
    "    var_name='policy_category',\n",
    "    value_name='is_mentioned'\n",
    ")\n",
    "\n",
    "# Keep only mentioned policies\n",
    "melted_weighted = melted_weighted[melted_weighted['is_mentioned'] == True]\n",
    "\n",
    "# Add number of annotator pairs per transcript\n",
    "melted_weighted = melted_weighted.merge(\n",
    "    annotator_combo_counts['num_annotator_pairs'],\n",
    "    on='internal_id',\n",
    "    how='left'\n",
    ")\n",
    "\n",
    "# Compute row weights\n",
    "melted_weighted['weight'] = 1 / melted_weighted['num_annotator_pairs']\n"
   ]
  },
  {
   "cell_type": "code",
   "execution_count": 122,
   "id": "12e7b095",
   "metadata": {},
   "outputs": [],
   "source": [
    "\n",
    "# Weighted sum grouped by policy and response\n",
    "weighted_policy_response_table = (\n",
    "    melted_weighted\n",
    "    .groupby(['policy_category', 'response'])['weight']\n",
    "    .sum()\n",
    "    .unstack(fill_value=0)\n",
    ")\n"
   ]
  },
  {
   "cell_type": "code",
   "execution_count": 123,
   "id": "90c62c60",
   "metadata": {},
   "outputs": [
    {
     "data": {
      "text/html": [
       "<div>\n",
       "<style scoped>\n",
       "    .dataframe tbody tr th:only-of-type {\n",
       "        vertical-align: middle;\n",
       "    }\n",
       "\n",
       "    .dataframe tbody tr th {\n",
       "        vertical-align: top;\n",
       "    }\n",
       "\n",
       "    .dataframe thead th {\n",
       "        text-align: right;\n",
       "    }\n",
       "</style>\n",
       "<table border=\"1\" class=\"dataframe\">\n",
       "  <thead>\n",
       "    <tr style=\"text-align: right;\">\n",
       "      <th>response</th>\n",
       "      <th>Debate</th>\n",
       "      <th>Neutral</th>\n",
       "      <th>Opposes</th>\n",
       "      <th>Supports</th>\n",
       "    </tr>\n",
       "    <tr>\n",
       "      <th>policy_category</th>\n",
       "      <th></th>\n",
       "      <th></th>\n",
       "      <th></th>\n",
       "      <th></th>\n",
       "    </tr>\n",
       "  </thead>\n",
       "  <tbody>\n",
       "    <tr>\n",
       "      <th>(De)regulation and laws</th>\n",
       "      <td>8.50</td>\n",
       "      <td>34.00</td>\n",
       "      <td>30.00</td>\n",
       "      <td>68.00</td>\n",
       "    </tr>\n",
       "    <tr>\n",
       "      <th>Emergency declaration</th>\n",
       "      <td>1.50</td>\n",
       "      <td>4.00</td>\n",
       "      <td>5.50</td>\n",
       "      <td>7.00</td>\n",
       "    </tr>\n",
       "    <tr>\n",
       "      <th>Emission reduction</th>\n",
       "      <td>13.75</td>\n",
       "      <td>55.50</td>\n",
       "      <td>53.25</td>\n",
       "      <td>164.00</td>\n",
       "    </tr>\n",
       "    <tr>\n",
       "      <th>Executive action</th>\n",
       "      <td>20.00</td>\n",
       "      <td>179.75</td>\n",
       "      <td>111.75</td>\n",
       "      <td>258.00</td>\n",
       "    </tr>\n",
       "    <tr>\n",
       "      <th>Green New Deal</th>\n",
       "      <td>7.00</td>\n",
       "      <td>24.00</td>\n",
       "      <td>67.00</td>\n",
       "      <td>53.00</td>\n",
       "    </tr>\n",
       "    <tr>\n",
       "      <th>Oil and gas industry</th>\n",
       "      <td>15.75</td>\n",
       "      <td>73.75</td>\n",
       "      <td>88.75</td>\n",
       "      <td>141.75</td>\n",
       "    </tr>\n",
       "    <tr>\n",
       "      <th>Other climate policy</th>\n",
       "      <td>8.75</td>\n",
       "      <td>36.25</td>\n",
       "      <td>15.50</td>\n",
       "      <td>58.50</td>\n",
       "    </tr>\n",
       "    <tr>\n",
       "      <th>Paris Agreement</th>\n",
       "      <td>10.50</td>\n",
       "      <td>88.00</td>\n",
       "      <td>47.50</td>\n",
       "      <td>152.50</td>\n",
       "    </tr>\n",
       "    <tr>\n",
       "      <th>Renewable energy</th>\n",
       "      <td>11.25</td>\n",
       "      <td>55.50</td>\n",
       "      <td>54.75</td>\n",
       "      <td>156.50</td>\n",
       "    </tr>\n",
       "  </tbody>\n",
       "</table>\n",
       "</div>"
      ],
      "text/plain": [
       "response                 Debate  Neutral  Opposes  Supports\n",
       "policy_category                                            \n",
       "(De)regulation and laws    8.50    34.00    30.00     68.00\n",
       "Emergency declaration      1.50     4.00     5.50      7.00\n",
       "Emission reduction        13.75    55.50    53.25    164.00\n",
       "Executive action          20.00   179.75   111.75    258.00\n",
       "Green New Deal             7.00    24.00    67.00     53.00\n",
       "Oil and gas industry      15.75    73.75    88.75    141.75\n",
       "Other climate policy       8.75    36.25    15.50     58.50\n",
       "Paris Agreement           10.50    88.00    47.50    152.50\n",
       "Renewable energy          11.25    55.50    54.75    156.50"
      ]
     },
     "execution_count": 123,
     "metadata": {},
     "output_type": "execute_result"
    }
   ],
   "source": [
    "weighted_policy_response_table"
   ]
  },
  {
   "cell_type": "code",
   "execution_count": 124,
   "id": "01a10f91",
   "metadata": {},
   "outputs": [],
   "source": [
    "# Reset index and rename the index column\n",
    "weighted_policy_response_table = weighted_policy_response_table.reset_index().rename(columns={'response': 'policy_category'})\n",
    "\n",
    "# Reorder columns\n",
    "column_order = ['policy_category', 'Supports', 'Neutral', 'Debate', 'Opposes']\n",
    "weighted_policy_response_table_reordered = weighted_policy_response_table[column_order]\n",
    "\n",
    "# Save to CSV\n",
    "weighted_policy_response_table_reordered.to_csv('output/policy_valence_summary_transcript_weighing.csv', index=False)\n"
   ]
  }
 ],
 "metadata": {
  "kernelspec": {
   "display_name": ".venv",
   "language": "python",
   "name": "python3"
  },
  "language_info": {
   "codemirror_mode": {
    "name": "ipython",
    "version": 3
   },
   "file_extension": ".py",
   "mimetype": "text/x-python",
   "name": "python",
   "nbconvert_exporter": "python",
   "pygments_lexer": "ipython3",
   "version": "3.13.1"
  }
 },
 "nbformat": 4,
 "nbformat_minor": 5
}
