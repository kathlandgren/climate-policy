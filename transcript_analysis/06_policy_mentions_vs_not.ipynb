{
 "cells": [
  {
   "cell_type": "code",
   "execution_count": 3,
   "metadata": {},
   "outputs": [],
   "source": [
    "import pandas as pd\n",
    "import json\n",
    "import numpy as np\n",
    "from datetime import datetime\n",
    "import matplotlib as mpl\n",
    "import matplotlib.pyplot as plt\n",
    "from collections import Counter\n",
    "import seaborn as sns\n",
    "import scipy.stats as stats"
   ]
  },
  {
   "cell_type": "code",
   "execution_count": 20,
   "metadata": {},
   "outputs": [],
   "source": [
    "colors=['#19bdff','#f2d138'] #majority/minority\n",
    "greycolor='#626262'\n",
    "myblack='#222222'\n",
    "# repcolor='red'\n",
    "# demcolor='blue'\n",
    "mygrey='#cfcfcf'\n",
    "myred= '#f2d138' #'#ea9999'\n",
    "mygreen= '#19bdff' #'#93c47d'\n",
    "mypurple = '#7E57C2'\n",
    "\n",
    "TINY_SIZE = 9\n",
    "SMALL_SIZE = 10\n",
    "MEDIUM_SIZE = 16\n",
    "BIGGER_SIZE = 20\n",
    "\n",
    "dpival=100\n",
    "\n",
    "mpl.rcParams['figure.dpi'] = dpival\n",
    "\n",
    "plt.rc('font', size=SMALL_SIZE)          # controls default text sizes\n",
    "plt.rc('axes', titlesize=SMALL_SIZE)     # fontsize of the axes title\n",
    "plt.rc('axes', labelsize=SMALL_SIZE)    # fontsize of the x and y labels\n",
    "plt.rc('xtick', labelsize=SMALL_SIZE)    # fontsize of the tick labels\n",
    "plt.rc('ytick', labelsize=SMALL_SIZE)    # fontsize of the tick labels\n",
    "plt.rc('legend', fontsize=TINY_SIZE)    # legend fontsize\n",
    "plt.rc('figure', titlesize=BIGGER_SIZE)  # fontsize of the figure title\n"
   ]
  },
  {
   "cell_type": "code",
   "execution_count": 21,
   "metadata": {},
   "outputs": [],
   "source": [
    "\n",
    "Q1_choices=[\"Acknowledges\",\"Neutral\",\"Denies\",\"Debate\"]\n",
    "Q2_choices=[\"Expresses climate concern\",\"Neutral\",\"Expresses opposition to climate concern\",\"Debate\"]\n",
    "Q3_choices=[\"Supports\",\"Neutral\",\"Opposes\",\"Debate\",\"Does not mention\"]\n",
    "short_Q2_choices=['Concern',\n",
    " 'Neutral',\n",
    " 'Opposition',\n",
    " 'Debate'] \n",
    "short_Q3_choices=Q3_choices[:-2] #cut \"does not mention\"\n"
   ]
  },
  {
   "cell_type": "code",
   "execution_count": 22,
   "metadata": {},
   "outputs": [],
   "source": [
    "df = pd.read_csv('input/allQ_df.csv', index_col=0)"
   ]
  },
  {
   "cell_type": "code",
   "execution_count": 23,
   "metadata": {},
   "outputs": [],
   "source": [
    "df = df.dropna() ## drop unclears"
   ]
  },
  {
   "cell_type": "code",
   "execution_count": 24,
   "metadata": {},
   "outputs": [
    {
     "data": {
      "text/plain": [
       "Index(['internal_id', 'media_outlet', 'climate_change', 'attitude', 'policy'], dtype='object')"
      ]
     },
     "execution_count": 24,
     "metadata": {},
     "output_type": "execute_result"
    }
   ],
   "source": [
    "df.columns"
   ]
  },
  {
   "cell_type": "code",
   "execution_count": 25,
   "metadata": {},
   "outputs": [],
   "source": [
    "\n",
    "\n",
    "# Split DataFrame\n",
    "df_policy_mention = df[df['policy'] != 'Does not mention']\n",
    "df_policy_no_mention = df[df['policy'] == 'Does not mention']\n",
    "\n",
    "# Compute Distributions\n",
    "climate_dist_mention = df_policy_mention['climate_change'].value_counts(normalize=True)\n",
    "climate_dist_no_mention = df_policy_no_mention['climate_change'].value_counts(normalize=True)\n",
    "\n",
    "attitude_dist_mention = df_policy_mention['attitude'].value_counts(normalize=True)\n",
    "attitude_dist_no_mention = df_policy_no_mention['attitude'].value_counts(normalize=True)\n",
    "\n"
   ]
  },
  {
   "cell_type": "code",
   "execution_count": 26,
   "metadata": {},
   "outputs": [],
   "source": [
    "# Statistical tests\n",
    "def compute_stat_tests(category1, category2, dist_mention, dist_no_mention, n_mention, n_no_mention):\n",
    "    \"\"\"Computes Fisher's Exact Test, Chi-square Test, and Cramér's V for two given categories.\"\"\"\n",
    "    prop_mention_1 = dist_mention.get(category1, 0)\n",
    "    prop_mention_2 = dist_mention.get(category2, 0)\n",
    "    prop_no_mention_1 = dist_no_mention.get(category1, 0)\n",
    "    prop_no_mention_2 = dist_no_mention.get(category2, 0)\n",
    "\n",
    "    contingency_table = np.array([\n",
    "        [prop_mention_1 * n_mention, prop_no_mention_1 * n_no_mention],\n",
    "        [prop_mention_2 * n_mention, prop_no_mention_2 * n_no_mention]\n",
    "    ]).astype(int)\n",
    "\n",
    "    # Fisher's Exact Test\n",
    "    oddsratio, p_fisher = stats.fisher_exact(contingency_table)\n",
    "\n",
    "    # Chi-square test\n",
    "    chi2, p_chi2, _, _ = stats.chi2_contingency(contingency_table)\n",
    "\n",
    "    # Compute Cramér's V\n",
    "    n_total = contingency_table.sum()\n",
    "    phi2 = chi2 / n_total\n",
    "    r, k = contingency_table.shape\n",
    "    cramers_v = np.sqrt(phi2 / min(r - 1, k - 1))\n",
    "\n",
    "\n",
    "    return {\n",
    "        \"Fisher's Exact Test p-value\": p_fisher,\n",
    "        \"Chi-square Test χ²\": chi2,\n",
    "        \"Chi-square Test p-value\": p_chi2,\n",
    "        \"Cramér's V\": cramers_v\n",
    "    }\n",
    "\n",
    "\n",
    "# Run tests for Acknowledges vs. Neutral (climate_change)\n",
    "results_climate = compute_stat_tests(\"Acknowledges\", \"Neutral\", climate_dist_mention, climate_dist_no_mention, n_mention_climate, n_no_mention_climate)\n",
    "\n",
    "# Run tests for Concern vs. Neutral (attitude)\n",
    "results_attitude = compute_stat_tests(\"Expresses climate concern\", \"Neutral\", attitude_dist_mention, attitude_dist_no_mention, n_mention_attitude, n_no_mention_attitude)\n",
    "\n"
   ]
  },
  {
   "cell_type": "code",
   "execution_count": 27,
   "metadata": {},
   "outputs": [
    {
     "name": "stdout",
     "output_type": "stream",
     "text": [
      "\n",
      "Climate Change (Acknowledges vs. Neutral)\n",
      "Fisher's Exact Test p-value: 4.498000925405648e-105\n",
      "Chi-square Test χ²: 474.25647058074884\n",
      "Chi-square Test p-value: 3.7978549956662094e-105\n",
      "Cramér's V: 0.34528224207449937\n",
      "\n",
      "Attitude (Concern vs. Neutral)\n",
      "Fisher's Exact Test p-value: 3.63079681057761e-10\n",
      "Chi-square Test χ²: 38.94030622287518\n",
      "Chi-square Test p-value: 4.3696472241479777e-10\n",
      "Cramér's V: 0.10114986075502372\n"
     ]
    }
   ],
   "source": [
    "def print_results(title, results):\n",
    "    print(f\"\\n{title}\")\n",
    "    for key, value in results.items():\n",
    "        print(f\"{key}: {value}\")\n",
    "\n",
    "print_results(\"Climate Change (Acknowledges vs. Neutral)\", results_climate)\n",
    "print_results(\"Attitude (Concern vs. Neutral)\", results_attitude)\n"
   ]
  },
  {
   "cell_type": "code",
   "execution_count": 28,
   "metadata": {},
   "outputs": [
    {
     "data": {
      "image/png": "[encoded data removed]",
      "text/plain": [
       "<Figure size 1000x400 with 2 Axes>"
      ]
     },
     "metadata": {},
     "output_type": "display_data"
    }
   ],
   "source": [
    "import numpy as np\n",
    "import pandas as pd\n",
    "import scipy.stats as stats\n",
    "import matplotlib.pyplot as plt\n",
    "\n",
    "# Define response categories\n",
    "Q1_choices = [\"Acknowledges\", \"Neutral\", \"Denies\", \"Debate\"]\n",
    "Q2_choices = [\"Expresses climate concern\", \"Neutral\", \"Expresses opposition to climate concern\", \"Debate\"]\n",
    "short_Q2_choices = ['Concern', 'Neutral', 'Opposition', 'Debate']\n",
    "\n",
    "# Function to compute distributions\n",
    "def compute_distributions(df, column, categories):\n",
    "    dist_mention = df[df['policy'] != 'Does not mention'][column].value_counts(normalize=True)\n",
    "    dist_no_mention = df[df['policy'] == 'Does not mention'][column].value_counts(normalize=True)\n",
    "    n_mention = len(df[df['policy'] != 'Does not mention'])\n",
    "    n_no_mention = len(df[df['policy'] == 'Does not mention'])\n",
    "\n",
    "    # Ensure all categories are present\n",
    "    dist_mention = dist_mention.reindex(categories, fill_value=0)\n",
    "    dist_no_mention = dist_no_mention.reindex(categories, fill_value=0)\n",
    "\n",
    "    return dist_mention, dist_no_mention, n_mention, n_no_mention\n",
    "\n",
    "def compute_multinomial_errors(dist, total):\n",
    "    \"\"\"\n",
    "    Compute standard errors for proportions using a numerically stable\n",
    "    multinomial variance approximation.\n",
    "    \"\"\"\n",
    "    if total == 0:\n",
    "        return [0] * len(dist)\n",
    "\n",
    "    p = dist.to_numpy()\n",
    "\n",
    "    # Alternative multinomial variance estimation that avoids overcorrection\n",
    "    variance = (p * (1 - p)) / total\n",
    "\n",
    "    # Compute errors (standard deviation) and ensure they aren't artificially zero\n",
    "    errors = np.sqrt(np.maximum(variance, 1e-10))  # Ensures no artificially low values\n",
    "\n",
    "    return errors\n",
    "\n",
    "\n",
    "# Function to plot distributions\n",
    "def plot_distributions(x_labels, dist_mention, dist_no_mention, err_mention, err_no_mention, title, short_labels=None):\n",
    "    bar_width = 0.4\n",
    "    x = np.arange(len(x_labels))\n",
    "\n",
    "    plt.bar(x - bar_width/2, dist_mention, bar_width, yerr=err_mention, capsize=5, label='Mentions Policy', color='#7E57C2', alpha=0.7)\n",
    "    plt.bar(x + bar_width/2, dist_no_mention, bar_width, yerr=err_no_mention, capsize=5, label='Does Not Mention Policy', color='#cfcfcf', alpha=0.7)\n",
    "\n",
    "    plt.xticks(x, short_labels if short_labels else x_labels, rotation=45)\n",
    "    plt.ylim(0.0,0.8)\n",
    "    plt.ylabel('Proportion')\n",
    "    plt.title(title)\n",
    "    plt.legend()\n",
    "    sns.despine()\n",
    "\n",
    "# Recompute everything after restoring `df`\n",
    "climate_dist_mention, climate_dist_no_mention, n_mention_climate, n_no_mention_climate = compute_distributions(df, 'climate_change', Q1_choices)\n",
    "attitude_dist_mention, attitude_dist_no_mention, n_mention_attitude, n_no_mention_attitude = compute_distributions(df, 'attitude', Q2_choices)\n",
    "\n",
    "# Compute multinomial-based standard errors\n",
    "climate_errors_mention = compute_multinomial_errors(climate_dist_mention, n_mention_climate)\n",
    "climate_errors_no_mention = compute_multinomial_errors(climate_dist_no_mention, n_no_mention_climate)\n",
    "attitude_errors_mention = compute_multinomial_errors(attitude_dist_mention, n_mention_attitude)\n",
    "attitude_errors_no_mention = compute_multinomial_errors(attitude_dist_no_mention, n_no_mention_attitude)\n",
    "\n",
    "# Plot updated bar charts\n",
    "plt.figure(figsize=(10, 4))\n",
    "plt.subplot(1, 2, 1)\n",
    "plot_distributions(Q1_choices, climate_dist_mention, climate_dist_no_mention, climate_errors_mention, climate_errors_no_mention, \"Climate Change Distribution\")\n",
    "\n",
    "plt.subplot(1, 2, 2)\n",
    "plot_distributions(Q2_choices, attitude_dist_mention, attitude_dist_no_mention, attitude_errors_mention, attitude_errors_no_mention, \"Attitude Distribution\", short_Q2_choices)\n",
    "\n",
    "plt.tight_layout()\n",
    "plt.show()\n"
   ]
  }
 ],
 "metadata": {
  "kernelspec": {
   "display_name": ".venv",
   "language": "python",
   "name": "python3"
  },
  "language_info": {
   "codemirror_mode": {
    "name": "ipython",
    "version": 3
   },
   "file_extension": ".py",
   "mimetype": "text/x-python",
   "name": "python",
   "nbconvert_exporter": "python",
   "pygments_lexer": "ipython3",
   "version": "3.13.1"
  },
  "orig_nbformat": 4
 },
 "nbformat": 4,
 "nbformat_minor": 2
}
