{
 "cells": [
  {
   "cell_type": "code",
   "execution_count": 1,
   "metadata": {},
   "outputs": [],
   "source": [
    "import pandas as pd\n",
    "import numpy as np\n",
    "import matplotlib.pyplot as plt\n",
    "from sklearn import linear_model\n",
    "import seaborn as sns\n",
    "\n",
    "import json\n",
    "from datetime import datetime\n",
    "from collections import Counter"
   ]
  },
  {
   "cell_type": "code",
   "execution_count": 2,
   "metadata": {},
   "outputs": [],
   "source": [
    "colors=['#f2d138','#19bdff'] #majority/minority\n",
    "greycolor='#626262'\n",
    "SMALL_SIZE = 10\n",
    "MEDIUM_SIZE = 12\n",
    "BIGGER_SIZE = 12\n",
    "\n",
    "plt.rc('font', size=SMALL_SIZE)          # controls default text sizes\n",
    "plt.rc('axes', titlesize=SMALL_SIZE)     # fontsize of the axes title\n",
    "plt.rc('axes', labelsize=MEDIUM_SIZE)    # fontsize of the x and y labels\n",
    "plt.rc('xtick', labelsize=SMALL_SIZE)    # fontsize of the tick labels\n",
    "plt.rc('ytick', labelsize=SMALL_SIZE)    # fontsize of the tick labels\n",
    "plt.rc('legend', fontsize=SMALL_SIZE)    # legend fontsize\n",
    "plt.rc('figure', titlesize=BIGGER_SIZE)  # fontsize of the figure title\n"
   ]
  },
  {
   "cell_type": "code",
   "execution_count": 3,
   "metadata": {},
   "outputs": [],
   "source": [
    "##import survey data from Sparkman et al.\n",
    "df = pd.read_csv(r'input/survey_data/participant_data.csv')"
   ]
  },
  {
   "cell_type": "code",
   "execution_count": 4,
   "metadata": {},
   "outputs": [],
   "source": [
    "#create a copy of the dataframe to prevent altering the dataset\n",
    "dfmedia=df.copy()"
   ]
  },
  {
   "cell_type": "code",
   "execution_count": 5,
   "metadata": {},
   "outputs": [],
   "source": [
    "medialist=['CNN','NYT','ABC','NPR','FOX','Cons','Lib']\n",
    "\n",
    "# add a column for each media category based on consuming once a week or more\n",
    "dfmedia['CNN']=np.where((dfmedia[\"GRID_GTS3_1_GTS3\"]>=3),True,False)\n",
    "dfmedia['NYT']=np.where((dfmedia[\"GRID_GTS3_3_GTS3\"]>=3),True,False)\n",
    "dfmedia['ABC']=np.where((dfmedia[\"GRID_GTS3_4_GTS3\"]>=3),True,False)\n",
    "dfmedia['NPR']=np.where((dfmedia[\"GRID_GTS3_5_GTS3\"]>=3),True,False)\n",
    "dfmedia['FOX']=np.where((dfmedia[\"GRID_GTS3_6_GTS3\"]>=3),True,False)\n",
    "dfmedia['Cons']=np.where((dfmedia[\"GRID_GTS3_7_GTS3\"]>=3),True,False)\n",
    "dfmedia['Lib']=np.where((dfmedia[\"GRID_GTS3_8_GTS3\"]>=3),True,False)\n",
    "\n",
    "\n"
   ]
  },
  {
   "cell_type": "code",
   "execution_count": 6,
   "metadata": {},
   "outputs": [],
   "source": [
    "# convert ordinal variables to approximate number of days a month that they consume a given media channel\n",
    "def weigh_by_freq(response):\n",
    "    if response==1:\n",
    "        return 0\n",
    "    elif response==2:\n",
    "        return 1 \n",
    "    elif response==3:\n",
    "        return 5\n",
    "    elif response==4:\n",
    "        return 15\n",
    "    elif response==5:\n",
    "        return 30\n",
    "    else:\n",
    "        return 0\n",
    "\n",
    "#copy columns\n",
    "alteredmedialist=['CNN_ord','','NYT_ord','ABC_ord','NPR_ord','FOX_ord','Cons_ord','Lib_ord'] #to account for skipping 2 in GTS3\n",
    "for i in range(1,9):\n",
    "    if i!=2:\n",
    "\n",
    "        dfmedia[alteredmedialist[i-1]]=dfmedia[\"GRID_GTS3_\"+str(i)+\"_GTS3\"]\n",
    "\n",
    "\n",
    "ordinal_medialist=['CNN_ord','NYT_ord','ABC_ord','NPR_ord','FOX_ord','Cons_ord','Lib_ord']\n",
    "\n",
    "\n",
    "for string in ordinal_medialist:\n",
    "    dfmedia[string]=dfmedia[string].apply(weigh_by_freq)\n",
    "\n"
   ]
  },
  {
   "cell_type": "code",
   "execution_count": 7,
   "metadata": {},
   "outputs": [],
   "source": [
    "#add a column for diversity of media consumption\n",
    "dfmedia['number_of_outlets']=dfmedia[['CNN', 'NYT','ABC','NPR','FOX','Cons','Lib']].sum(axis=1)\n"
   ]
  },
  {
   "cell_type": "code",
   "execution_count": 8,
   "metadata": {},
   "outputs": [
    {
     "name": "stdout",
     "output_type": "stream",
     "text": [
      "['CNN_ord', 'NYT_ord', 'ABC_ord', 'NPR_ord', 'FOX_ord', 'Cons_ord', 'Lib_ord']\n",
      "[46837. 30700. 80246. 24326. 32272. 18774. 12095.]\n"
     ]
    }
   ],
   "source": [
    "synthetic_ratings=np.zeros(len(ordinal_medialist))\n",
    "ratings_dict={}\n",
    "for i in range(len(ordinal_medialist)):\n",
    "    \n",
    "    synthetic_ratings[i]=(dfmedia[ordinal_medialist[i]].sum())\n",
    "    ratings_dict[medialist[i]]=synthetic_ratings[i]\n",
    "\n",
    "print(ordinal_medialist)\n",
    "print(synthetic_ratings)\n"
   ]
  },
  {
   "cell_type": "code",
   "execution_count": 10,
   "metadata": {},
   "outputs": [
    {
     "data": {
      "text/plain": [
       "Text(0.5, 1.0, 'Estimated number of days per month the average survey responder consumes media (synthetic ratings)')"
      ]
     },
     "execution_count": 10,
     "metadata": {},
     "output_type": "execute_result"
    },
    {
     "data": {
      "image/png": "[encoded data removed]",
      "text/plain": [
       "<Figure size 640x480 with 1 Axes>"
      ]
     },
     "metadata": {},
     "output_type": "display_data"
    }
   ],
   "source": [
    "N=6119\n",
    "plt.bar(medialist,synthetic_ratings/N)\n",
    "plt.title('Estimated number of days per month the average survey responder consumes media (synthetic ratings)')"
   ]
  },
  {
   "cell_type": "code",
   "execution_count": 13,
   "metadata": {},
   "outputs": [],
   "source": [
    "\n",
    "with open('input/Q1_counts.json', 'r') as json_file:\n",
    "    Q1_counts = json.load(json_file)\n",
    "\n",
    "with open('input/Q2_counts.json', 'r') as json_file:\n",
    "    Q2_counts = json.load(json_file)\n",
    "\n",
    "with open('input/Q3_counts.json', 'r') as json_file:\n",
    "    Q3_counts = json.load(json_file)\n"
   ]
  },
  {
   "cell_type": "code",
   "execution_count": 14,
   "metadata": {},
   "outputs": [],
   "source": [
    "Q1_counts={key: Q1_counts[key] for key in sorted(Q1_counts.keys())}\n",
    "Q2_counts={key: Q2_counts[key] for key in sorted(Q2_counts.keys())}\n",
    "Q3_counts={key: Q3_counts[key] for key in sorted(Q3_counts.keys())}"
   ]
  },
  {
   "cell_type": "code",
   "execution_count": 16,
   "metadata": {},
   "outputs": [],
   "source": [
    "def combine_counts(counts_dict):\n",
    "    \"\"\"\n",
    "    Combine counts from different categories into grouped totals.\n",
    "\n",
    "    This function aggregates counts from a dictionary of arrays representing \n",
    "    different news outlets into broader categories: cable liberal, TV news, and Fox.\n",
    "\n",
    "    Parameters:\n",
    "    -----------\n",
    "    counts_dict : dict\n",
    "        A dictionary where keys are news outlet names (e.g., 'CNN', 'MSNBC', 'ABC', etc.) \n",
    "        and values are arrays representing counts for those outlets.\n",
    "\n",
    "    Returns:\n",
    "    --------\n",
    "    dict\n",
    "        A new dictionary with the following keys:\n",
    "        - 'cable_lib': Combined counts for 'CNN' and 'MSNBC'.\n",
    "        - 'tv_news': Combined counts for 'ABC', 'CBS', and 'NBC'.\n",
    "        - 'Fox': Counts for 'Fox'.\n",
    "    \"\"\"\n",
    "    # Initialize a new dictionary to store aggregated counts\n",
    "    new_dict = {}\n",
    "\n",
    "    # Combine counts for cable liberal news (CNN and MSNBC)\n",
    "    new_dict['cable_lib'] = np.array(counts_dict['CNN']) + np.array(counts_dict['MSNBC'])\n",
    "\n",
    "    # Combine counts for traditional TV news (ABC, CBS, NBC)\n",
    "    new_dict['tv_news'] = (\n",
    "        np.array(counts_dict['ABC']) + np.array(counts_dict['CBS']) + np.array(counts_dict['NBC'])\n",
    "    )\n",
    "\n",
    "    # Include counts for Fox without modification\n",
    "    new_dict['Fox'] = np.array(counts_dict['Fox'])\n",
    "\n",
    "    # Return the aggregated dictionary\n",
    "    return new_dict\n"
   ]
  },
  {
   "cell_type": "code",
   "execution_count": 17,
   "metadata": {},
   "outputs": [],
   "source": [
    "def compute_weighted_counts(combined_counts_dict, ratings_dict):\n",
    "    \"\"\"\n",
    "    Compute weighted counts for grouped categories based on ratings.\n",
    "\n",
    "    This function takes combined counts of categories (e.g., cable liberal, TV news, Fox) \n",
    "    and applies a weighting based on predefined ratings for specific news outlets.\n",
    "\n",
    "    Parameters:\n",
    "    -----------\n",
    "    combined_counts_dict : dict\n",
    "        A dictionary with keys 'cable_lib', 'tv_news', and 'Fox', where each value is \n",
    "        a list or array of counts representing the aggregated data for those categories.\n",
    "    ratings_dict : dict\n",
    "        A dictionary where keys are news outlet names (e.g., 'CNN', 'ABC', 'FOX'), and \n",
    "        values are numeric ratings used as weights for the counts.\n",
    "\n",
    "    Returns:\n",
    "    --------\n",
    "    dict\n",
    "        A new dictionary with the same keys as `combined_counts_dict`:\n",
    "        - 'cable_lib': Weighted counts for the cable liberal category.\n",
    "        - 'tv_news': Weighted counts for the TV news category.\n",
    "        - 'Fox': Weighted counts for Fox.\n",
    "    \"\"\"\n",
    "    # Initialize a new dictionary to store weighted counts\n",
    "    new_dict = {}\n",
    "\n",
    "    # Apply CNN ratings to cable_lib counts\n",
    "    new_dict['cable_lib'] = [item * ratings_dict['CNN'] for item in combined_counts_dict['cable_lib']]\n",
    "\n",
    "    # Apply ABC ratings to tv_news counts\n",
    "    new_dict['tv_news'] = [item * ratings_dict['ABC'] for item in combined_counts_dict['tv_news']]\n",
    "\n",
    "    # Apply FOX ratings to Fox counts\n",
    "    new_dict['Fox'] = [item * ratings_dict['FOX'] for item in combined_counts_dict['Fox']]\n",
    "\n",
    "    # Return the dictionary with weighted counts\n",
    "    return new_dict\n"
   ]
  },
  {
   "cell_type": "code",
   "execution_count": 18,
   "metadata": {},
   "outputs": [],
   "source": [
    "Q1_combined_counts_dict=combine_counts(Q1_counts)\n",
    "Q1_weighted_counts=compute_weighted_counts(Q1_combined_counts_dict,ratings_dict)\n",
    "\n",
    "Q2_combined_counts_dict=combine_counts(Q2_counts)\n",
    "Q2_weighted_counts=compute_weighted_counts(Q2_combined_counts_dict,ratings_dict)\n",
    "\n",
    "Q3_combined_counts_dict=combine_counts(Q3_counts)\n",
    "Q3_weighted_counts=compute_weighted_counts(Q3_combined_counts_dict,ratings_dict)"
   ]
  },
  {
   "cell_type": "code",
   "execution_count": 19,
   "metadata": {},
   "outputs": [],
   "source": [
    "\n",
    "Q1_choices=[\"Acknowledges\",\"Neutral\",\"Denies\",\"Debate\",\"Unclear\"]\n",
    "Q2_choices=[\"Expresses climate concern\",\"Neutral\",\"Expresses opposition to climate concern\",\"Debate\",\"Unclear\"]\n",
    "Q3_choices=[\"Supports\",\"Neutral\",\"Opposes\",\"Debate\",\"Unclear\",\"No mention\"]\n",
    "\n",
    "short_Q2_choices=['Concern',\n",
    " 'Neutral',\n",
    " 'Opposition',\n",
    " 'Debate',\n",
    " 'Unclear']\n"
   ]
  },
  {
   "cell_type": "code",
   "execution_count": 20,
   "metadata": {},
   "outputs": [
    {
     "data": {
      "text/plain": [
       "{'cable_lib': [11662413.0, 5573603.0, 327859.0, 468370.0, 39483591.0],\n",
       " 'tv_news': [2728364.0, 1925904.0, 401230.0, 80246.0, 21104698.0],\n",
       " 'Fox': [193632.0, 1194064.0, 3614464.0, 354992.0, 7422560.0]}"
      ]
     },
     "execution_count": 20,
     "metadata": {},
     "output_type": "execute_result"
    }
   ],
   "source": [
    "Q3_weighted_counts"
   ]
  },
  {
   "cell_type": "markdown",
   "metadata": {},
   "source": [
    "## Plotting"
   ]
  },
  {
   "cell_type": "code",
   "execution_count": 22,
   "metadata": {},
   "outputs": [],
   "source": [
    "myblack='#222222'\n",
    "    # Define color scheme\n",
    "colors = ['#3879f2', '#f2b538', '#f24f38']  "
   ]
  },
  {
   "cell_type": "code",
   "execution_count": 23,
   "metadata": {},
   "outputs": [],
   "source": [
    "\n",
    "\n",
    "def create_stacked_histogram(choices, weighted_counts, ax, title):\n",
    "    \"\"\"\n",
    "    Create a stacked histogram on the provided axis.\n",
    "\n",
    "    :param choices: List of choices for the x-axis.\n",
    "    :param weighted_counts: Dictionary with keys as categories and values as counts.\n",
    "    :param ax: Matplotlib axis object where the histogram will be drawn.\n",
    "    :param title: Title of the histogram.\n",
    "    \"\"\"\n",
    "    # Initialize the bottom position for stacking\n",
    "    bottom = [0] * len(choices)\n",
    "    total_heights = [0] * len(choices)\n",
    "    bars = []\n",
    "\n",
    "    # Plot each data series and collect the bar objects\n",
    "    for key, values, color in zip(weighted_counts.keys(), weighted_counts.values(), colors):\n",
    "        bar = ax.bar(choices, values, label=key, bottom=bottom, color=color)\n",
    "        bars.append(bar[0])  # Store only one bar handle for the legend\n",
    "\n",
    "        # Update the bottom position for the next series\n",
    "        for i in range(len(values)):\n",
    "            bottom[i] += values[i]\n",
    "            total_heights[i] += values[i]\n",
    "\n",
    "    # Adding labels and title\n",
    "    ax.set_ylabel('Estimated views', color=myblack)\n",
    "    ax.set_title(title,pad=20)\n",
    "\n",
    "    # Rotate x-axis labels horizontally\n",
    "    ax.tick_params(axis='x', labelrotation=45)\n",
    "    \n",
    "    # Set color of spines\n",
    "    ax.spines['top'].set_color(myblack)\n",
    "    ax.spines['right'].set_color(myblack)\n",
    "    ax.spines['bottom'].set_color(myblack)\n",
    "    ax.spines['left'].set_color(myblack)\n",
    "\n",
    "    # Set color of ticks\n",
    "    ax.tick_params(axis='x', colors=myblack)\n",
    "    ax.tick_params(axis='y', colors=myblack)\n",
    "\n",
    "    # Optional: to remove top and right spines\n",
    "    sns.despine()\n",
    "\n",
    "    return bars, total_heights\n"
   ]
  },
  {
   "cell_type": "code",
   "execution_count": 24,
   "metadata": {},
   "outputs": [],
   "source": [
    "Q3_choices_no_unclear=Q3_choices[:-2]+Q3_choices[-1:]"
   ]
  },
  {
   "cell_type": "code",
   "execution_count": 26,
   "metadata": {},
   "outputs": [
    {
     "data": {
      "image/png": "[encoded data removed]",
      "text/plain": [
       "<Figure size 800x300 with 3 Axes>"
      ]
     },
     "metadata": {},
     "output_type": "display_data"
    }
   ],
   "source": [
    "# Define a 1x3 figure\n",
    "fig, axes = plt.subplots(nrows=1, ncols=3, figsize=(8, 3))\n",
    "\n",
    "# Collect the bars from each histogram for the legend\n",
    "Q1_bars, Q1_totals = create_stacked_histogram(Q1_choices[:-1], Q1_weighted_counts, axes[0], 'Anthropogenic climate change')\n",
    "Q2_bars, Q2_totals = create_stacked_histogram(short_Q2_choices[:-1], Q2_weighted_counts, axes[1], 'Climate concern')\n",
    "Q3_bars, Q3_totals = create_stacked_histogram(Q3_choices_no_unclear, Q3_weighted_counts, axes[2], 'Climate policy')\n",
    "\n",
    "# Since the bars are the same for each category, we'll just use one set of bars and labels for the legend\n",
    "bars = Q1_bars  # Use the bars from the first plot (same for all subplots)\n",
    "labels = ['CNN/MSNBC', 'ABC/CBS/NBC', 'Fox']  # Labels corresponding to the categories\n",
    "\n",
    "# Add a legend below all subplots\n",
    "fig.legend(bars, labels, loc='lower center', ncol=len(labels), frameon=False)\n",
    "\n",
    "# Adjust layout to make space for the legend\n",
    "plt.tight_layout(rect=[0, 0.05, 1, 1])  # Adjust the layout to leave space for the legend\n",
    "plt.savefig('99_figures/weighted_by_views.pdf')\n",
    "# Show the plot\n",
    "plt.show()\n"
   ]
  }
 ],
 "metadata": {
  "kernelspec": {
   "display_name": "base",
   "language": "python",
   "name": "python3"
  },
  "language_info": {
   "codemirror_mode": {
    "name": "ipython",
    "version": 3
   },
   "file_extension": ".py",
   "mimetype": "text/x-python",
   "name": "python",
   "nbconvert_exporter": "python",
   "pygments_lexer": "ipython3",
   "version": "3.9.13"
  },
  "orig_nbformat": 4,
  "vscode": {
   "interpreter": {
    "hash": "5f2c1d3c389cc42d1557cb40d801857b79f37891e9bf8d32412d0b10add56c4b"
   }
  }
 },
 "nbformat": 4,
 "nbformat_minor": 2
}
