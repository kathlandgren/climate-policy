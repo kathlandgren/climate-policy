{
 "cells": [
  {
   "cell_type": "code",
   "execution_count": 5,
   "metadata": {},
   "outputs": [],
   "source": [
    "\n",
    "import numpy as np\n",
    "import matplotlib.pyplot as plt\n",
    "import networkx as nx\n",
    "from matplotlib.patches import Patch\n",
    "from matplotlib.lines import Line2D\n",
    "import matplotlib as mpl\n",
    "import pandas as pd\n",
    "\n",
    "import os\n",
    "import sys\n"
   ]
  },
  {
   "cell_type": "code",
   "execution_count": null,
   "metadata": {},
   "outputs": [],
   "source": [
    "\n",
    "# Get the current working directory\n",
    "current_dir = os.getcwd()\n",
    "\n",
    "# Navigate to 'network_simulations'\n",
    "parent_dir = os.path.abspath(os.path.join(current_dir, \"..\"))\n",
    "\n",
    "# Navigate to the sibling directory '00_opinion_function_setup'\n",
    "sibling_dir = os.path.join(parent_dir, \"00_opinion_function_setup\")\n",
    "\n",
    "# Add the sibling directory to sys.path for importing\n",
    "if sibling_dir not in sys.path:\n",
    "    sys.path.append(sibling_dir)\n",
    "\n",
    "# Import the module from 00_opinion_function_setup\n",
    "import opinion_functions as fun  \n",
    "import generate_homophilic_graph_symmetric"
   ]
  },
  {
   "cell_type": "code",
   "execution_count": 14,
   "metadata": {},
   "outputs": [],
   "source": [
    "\n",
    "hvec=[0,0.1,0.5,0.75,0.9,1]\n",
    "num_swaps=333\n",
    "num_sims=10\n",
    "minority_fraction=0.33\n",
    "num_agents=1000\n",
    "m=5\n",
    "mean_misp_vec=np.zeros((num_sims,len(hvec),num_swaps))\n",
    "opinion_percent_vec=np.zeros((num_sims,len(hvec),num_swaps))\n",
    "majority_opinion_percent_vec=np.zeros((num_sims,len(hvec),num_swaps))\n",
    "minority_opinion_percent_vec=np.zeros((num_sims,len(hvec),num_swaps))\n",
    "minority_degree_fraction_vec=np.zeros((num_sims,len(hvec),num_swaps))"
   ]
  },
  {
   "cell_type": "code",
   "execution_count": 15,
   "metadata": {},
   "outputs": [
    {
     "name": "stdout",
     "output_type": "stream",
     "text": [
      "0\n",
      "1\n",
      "2\n",
      "3\n",
      "4\n",
      "5\n",
      "6\n",
      "7\n",
      "8\n",
      "9\n"
     ]
    }
   ],
   "source": [
    "for j, h in enumerate(hvec):\n",
    "    h=hvec[j]\n",
    "    for k in range(num_sims):\n",
    "        # if k % 10 == 0:\n",
    "        print(k)\n",
    "        G,minority_nodes = generate_homophilic_graph_symmetric.homophilic_ba_graph(N=num_agents, m=m, minority_fraction=minority_fraction, homophily=h)\n",
    "\n",
    "        for i in range(num_swaps):\n",
    "            G,new_minority_nodes=fun.swap_top_maj_opinion(G,minority_nodes)\n",
    "            # print(minority_nodes)\n",
    "            # print(new_minority_nodes)\n",
    "            true_opinion,perceived_opinion=fun.generate_perceived_opinion(G,new_minority_nodes,{},narcissistic=False,weigh_connected=False)\n",
    "            mean_misp_vec[k,j,i]=0.66-np.sum(perceived_opinion)/num_agents\n",
    "\n",
    "            minority_opinion = [perceived_opinion[i] for i in minority_nodes]\n",
    "            minority_misperception = [(1-minority_fraction)-perceived_opinion[i] for i in minority_nodes]\n",
    "            majority_opinion = [perceived_opinion[x] for x in np.arange(len(perceived_opinion)) if x not in minority_nodes]\n",
    "            majority_misperception = [(1-minority_fraction)-perceived_opinion[x] for x in np.arange(len(perceived_opinion)) if x not in minority_nodes]\n",
    "\n",
    "            perceived_opinion_percent = [i * 100 for i in perceived_opinion]\n",
    "            majority_opinion_percent=[i * 100 for i in majority_opinion]\n",
    "            minority_opinion_percent=[i * 100 for i in minority_opinion]\n",
    "\n",
    "            opinion_percent_vec[k,j,i]=(np.mean(perceived_opinion_percent))\n",
    "            majority_opinion_percent_vec[k,j,i]=(np.mean(majority_opinion_percent))\n",
    "            minority_opinion_percent_vec[k,j,i]=np.mean(minority_opinion_percent)\n",
    "            minority_degree_fraction_vec[k,j,i]=fun.degree_fraction(G,minority_nodes)[0]\n",
    "\n",
    "mean_misp_vec_sims=np.average(mean_misp_vec,axis=0)\n",
    "mean_opinion_percent_vec=np.average(opinion_percent_vec,axis=0)\n",
    "mean_majority_opinion_percent_vec=np.average(majority_opinion_percent_vec,axis=0)\n",
    "mean_minority_opinion_percent_vec=np.average(minority_opinion_percent_vec,axis=0)\n",
    "mean_minority_degree_fraction_vec=np.average(minority_degree_fraction_vec,axis=0)\n"
   ]
  },
  {
   "cell_type": "code",
   "execution_count": 17,
   "metadata": {},
   "outputs": [],
   "source": [
    "for j, h in enumerate(hvec):\n",
    "    # Create the dataframe with hvec as the index\n",
    "    df = pd.DataFrame({\n",
    "        'mean_misp': mean_misp_vec_sims[j,:],\n",
    "        'mean_opinion_percent': mean_opinion_percent_vec[j,:],\n",
    "        'mean_majority_opinion_percent': mean_majority_opinion_percent_vec[j,:],\n",
    "        'mean_minority_opinion_percent': mean_minority_opinion_percent_vec[j,:],\n",
    "        'mean_minority_degree_fraction': mean_minority_degree_fraction_vec[j,:]\n",
    "    }, index=np.arange(num_swaps))\n",
    "\n",
    "    # Rename the index to 'swap_count'\n",
    "    df.index.name = 'swap_count'\n",
    "    # Write the DataFrame to a CSV file\n",
    "    df.to_csv(f'swapped_data/swap_sim_h_{str(int(h*100))}.csv')"
   ]
  }
 ],
 "metadata": {
  "kernelspec": {
   "display_name": "base",
   "language": "python",
   "name": "python3"
  },
  "language_info": {
   "codemirror_mode": {
    "name": "ipython",
    "version": 3
   },
   "file_extension": ".py",
   "mimetype": "text/x-python",
   "name": "python",
   "nbconvert_exporter": "python",
   "pygments_lexer": "ipython3",
   "version": "3.9.13"
  }
 },
 "nbformat": 4,
 "nbformat_minor": 2
}
