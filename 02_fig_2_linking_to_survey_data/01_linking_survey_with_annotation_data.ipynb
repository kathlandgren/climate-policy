{
 "cells": [
  {
   "cell_type": "code",
   "execution_count": null,
   "metadata": {},
   "outputs": [],
   "source": [
    "import pandas as pd\n",
    "import numpy as np\n",
    "import matplotlib.pyplot as plt\n",
    "import seaborn as sns\n",
    "from matplotlib.ticker import PercentFormatter, FuncFormatter\n",
    "from matplotlib.colors import to_rgb\n",
    "from sklearn import linear_model\n",
    "import seaborn as sns\n",
    "from pyprojroot import here\n",
    "\n",
    "import json\n",
    "from datetime import datetime\n",
    "from collections import Counter"
   ]
  },
  {
   "cell_type": "markdown",
   "metadata": {},
   "source": [
    "# Linking the processed annotation data to survey data and computing synthetic ratings\n",
    "This notebook uses the self-reported media diet data from the Sparkman et al. (2022) survey to estimate the viewership of each media outlet for each participant, summarizing the results in Figure 2."
   ]
  },
  {
   "cell_type": "markdown",
   "metadata": {},
   "source": [
    "## Figure style"
   ]
  },
  {
   "cell_type": "code",
   "execution_count": 4,
   "metadata": {},
   "outputs": [],
   "source": [
    "colors=['#19bdff','#f2d138'] #majority/minority\n",
    "greycolor='#626262'\n",
    "myblack='#222222'\n",
    "SMALL_SIZE = 10\n",
    "MEDIUM_SIZE = 12\n",
    "BIGGER_SIZE = 12\n",
    "\n",
    "plt.rc('font', size=SMALL_SIZE)          # controls default text sizes\n",
    "plt.rc('axes', titlesize=SMALL_SIZE)     # fontsize of the axes title\n",
    "plt.rc('axes', labelsize=MEDIUM_SIZE)    # fontsize of the x and y labels\n",
    "plt.rc('xtick', labelsize=SMALL_SIZE)    # fontsize of the tick labels\n",
    "plt.rc('ytick', labelsize=SMALL_SIZE)    # fontsize of the tick labels\n",
    "plt.rc('legend', fontsize=SMALL_SIZE)    # legend fontsize\n",
    "plt.rc('figure', titlesize=BIGGER_SIZE)  # fontsize of the figure title\n"
   ]
  },
  {
   "cell_type": "markdown",
   "metadata": {},
   "source": [
    "## Load data and format it"
   ]
  },
  {
   "cell_type": "code",
   "execution_count": 5,
   "metadata": {},
   "outputs": [],
   "source": [
    "##import survey data from Sparkman et al.\n",
    "df = pd.read_csv(here('data/survey_data/participant_data.csv'))"
   ]
  },
  {
   "cell_type": "code",
   "execution_count": 6,
   "metadata": {},
   "outputs": [],
   "source": [
    "#create a copy of the dataframe to prevent altering the dataset\n",
    "dfmedia=df.copy()"
   ]
  },
  {
   "cell_type": "code",
   "execution_count": 7,
   "metadata": {},
   "outputs": [],
   "source": [
    "medialist=['CNN','NYT','ABC','NPR','FOX','Cons','Lib']\n",
    "\n",
    "# add a column for each media category based on consuming once a week or more\n",
    "dfmedia['CNN']=np.where((dfmedia[\"GRID_GTS3_1_GTS3\"]>=3),True,False)\n",
    "dfmedia['NYT']=np.where((dfmedia[\"GRID_GTS3_3_GTS3\"]>=3),True,False)\n",
    "dfmedia['ABC']=np.where((dfmedia[\"GRID_GTS3_4_GTS3\"]>=3),True,False)\n",
    "dfmedia['NPR']=np.where((dfmedia[\"GRID_GTS3_5_GTS3\"]>=3),True,False)\n",
    "dfmedia['FOX']=np.where((dfmedia[\"GRID_GTS3_6_GTS3\"]>=3),True,False)\n",
    "dfmedia['Cons']=np.where((dfmedia[\"GRID_GTS3_7_GTS3\"]>=3),True,False)\n",
    "dfmedia['Lib']=np.where((dfmedia[\"GRID_GTS3_8_GTS3\"]>=3),True,False)\n",
    "\n",
    "\n"
   ]
  },
  {
   "cell_type": "code",
   "execution_count": 8,
   "metadata": {},
   "outputs": [],
   "source": [
    "# convert ordinal variables to approximate number of days a month that they consume a given media channel\n",
    "def weigh_by_freq(response):\n",
    "    if response==1:\n",
    "        return 0\n",
    "    elif response==2:\n",
    "        return 1 \n",
    "    elif response==3:\n",
    "        return 5\n",
    "    elif response==4:\n",
    "        return 15\n",
    "    elif response==5:\n",
    "        return 30\n",
    "    else:\n",
    "        return 0\n",
    "\n",
    "#copy columns\n",
    "alteredmedialist=['CNN_ord','','NYT_ord','ABC_ord','NPR_ord','FOX_ord','Cons_ord','Lib_ord'] #to account for skipping 2 in GTS3\n",
    "for i in range(1,9):\n",
    "    if i!=2:\n",
    "\n",
    "        dfmedia[alteredmedialist[i-1]]=dfmedia[\"GRID_GTS3_\"+str(i)+\"_GTS3\"]\n",
    "\n",
    "\n",
    "ordinal_medialist=['CNN_ord','NYT_ord','ABC_ord','NPR_ord','FOX_ord','Cons_ord','Lib_ord']\n",
    "\n",
    "\n",
    "for string in ordinal_medialist:\n",
    "    dfmedia[string]=dfmedia[string].apply(weigh_by_freq)\n",
    "\n"
   ]
  },
  {
   "cell_type": "code",
   "execution_count": 9,
   "metadata": {},
   "outputs": [],
   "source": [
    "#add a column for diversity of media consumption\n",
    "dfmedia['number_of_outlets']=dfmedia[['CNN', 'NYT','ABC','NPR','FOX','Cons','Lib']].sum(axis=1)\n"
   ]
  },
  {
   "cell_type": "code",
   "execution_count": 10,
   "metadata": {},
   "outputs": [
    {
     "name": "stdout",
     "output_type": "stream",
     "text": [
      "['CNN_ord', 'NYT_ord', 'ABC_ord', 'NPR_ord', 'FOX_ord', 'Cons_ord', 'Lib_ord']\n",
      "[46485.197443 27049.182855 78663.545978 23121.983553 33820.64975\n",
      " 19804.811476 12795.859375]\n"
     ]
    }
   ],
   "source": [
    "\n",
    "\n",
    "synthetic_ratings = np.zeros(len(ordinal_medialist))\n",
    "ratings_dict = {}\n",
    "unweighted_ratings_dict = {}\n",
    "\n",
    "for i in range(len(ordinal_medialist)):\n",
    "    column = ordinal_medialist[i]\n",
    "    unweighted_sum = dfmedia[column].sum()\n",
    "    weighted_sum = (dfmedia[column] * dfmedia['Weight']).sum() # make sure to use the weights to make a nationally representative sample\n",
    "    synthetic_ratings[i] = weighted_sum\n",
    "    unweighted_ratings_dict[medialist[i]] = unweighted_sum\n",
    "    ratings_dict[medialist[i]] = weighted_sum\n",
    "\n",
    "print(ordinal_medialist)\n",
    "print(synthetic_ratings)\n",
    "\n"
   ]
  },
  {
   "cell_type": "code",
   "execution_count": 11,
   "metadata": {},
   "outputs": [
    {
     "name": "stdout",
     "output_type": "stream",
     "text": [
      "{'CNN': np.float64(46485.197443), 'NYT': np.float64(27049.182855), 'ABC': np.float64(78663.54597800001), 'NPR': np.float64(23121.983553), 'FOX': np.float64(33820.649750000004), 'Cons': np.float64(19804.811476), 'Lib': np.float64(12795.859375)}\n",
      "{'CNN': np.int64(46837), 'NYT': np.int64(30700), 'ABC': np.int64(80246), 'NPR': np.int64(24326), 'FOX': np.int64(32272), 'Cons': np.int64(18774), 'Lib': np.int64(12095)}\n"
     ]
    }
   ],
   "source": [
    "print(ratings_dict)\n",
    "print(unweighted_ratings_dict)"
   ]
  },
  {
   "cell_type": "code",
   "execution_count": 12,
   "metadata": {},
   "outputs": [
    {
     "name": "stdout",
     "output_type": "stream",
     "text": [
      "CNN\n",
      "-351.8025570000027\n",
      "percent difference\n",
      "-0.007568055560727302\n",
      "NYT\n",
      "-3650.817145000001\n",
      "percent difference\n",
      "-0.1349695909325835\n",
      "ABC\n",
      "-1582.4540219999908\n",
      "percent difference\n",
      "-0.020116738984059513\n",
      "NPR\n",
      "-1204.0164470000018\n",
      "percent difference\n",
      "-0.05207236845576706\n",
      "FOX\n",
      "1548.6497500000041\n",
      "percent difference\n",
      "0.04579006498832874\n",
      "Cons\n",
      "1030.811475999999\n",
      "percent difference\n",
      "0.052048537662131446\n",
      "Lib\n",
      "700.859375\n",
      "percent difference\n",
      "0.05477235678045266\n"
     ]
    }
   ],
   "source": [
    "for key in ratings_dict:\n",
    "    print(key)\n",
    "    print (ratings_dict[key]-unweighted_ratings_dict[key])\n",
    "    print('percent difference')\n",
    "    print ((ratings_dict[key]-unweighted_ratings_dict[key])/ratings_dict[key])"
   ]
  },
  {
   "cell_type": "code",
   "execution_count": 13,
   "metadata": {},
   "outputs": [],
   "source": [
    "N=6119"
   ]
  },
  {
   "cell_type": "code",
   "execution_count": 14,
   "metadata": {},
   "outputs": [],
   "source": [
    "\n",
    "with open(here('00_data_processing/output/Q1_counts.json'), 'r') as json_file:\n",
    "    Q1_counts = json.load(json_file)\n",
    "\n",
    "with open(here('00_data_processing/output/Q2_counts.json'), 'r') as json_file:\n",
    "    Q2_counts = json.load(json_file)\n",
    "\n",
    "with open(here('00_data_processing/output/Q3_counts.json'), 'r') as json_file:\n",
    "    Q3_counts = json.load(json_file)\n"
   ]
  },
  {
   "cell_type": "code",
   "execution_count": 15,
   "metadata": {},
   "outputs": [],
   "source": [
    "Q1_counts={key: Q1_counts[key] for key in sorted(Q1_counts.keys())}\n",
    "Q2_counts={key: Q2_counts[key] for key in sorted(Q2_counts.keys())}\n",
    "Q3_counts={key: Q3_counts[key] for key in sorted(Q3_counts.keys())}"
   ]
  },
  {
   "cell_type": "code",
   "execution_count": 17,
   "metadata": {},
   "outputs": [],
   "source": [
    "def combine_counts(counts_dict):\n",
    "    \"\"\"\n",
    "    Combine counts from different categories into grouped totals.\n",
    "\n",
    "    This function aggregates counts from a dictionary of arrays representing \n",
    "    different news outlets into broader categories: cable liberal, TV news, and Fox.\n",
    "\n",
    "    Parameters:\n",
    "    -----------\n",
    "    counts_dict : dict\n",
    "        A dictionary where keys are news outlet names (e.g., 'CNN', 'MSNBC', 'ABC', etc.) \n",
    "        and values are arrays representing counts for those outlets.\n",
    "\n",
    "    Returns:\n",
    "    --------\n",
    "    dict\n",
    "        A new dictionary with the following keys:\n",
    "        - 'cable_lib': Combined counts for 'CNN' and 'MSNBC'.\n",
    "        - 'tv_news': Combined counts for 'ABC', 'CBS', and 'NBC'.\n",
    "        - 'Fox': Counts for 'Fox'.\n",
    "    \"\"\"\n",
    "    # Initialize a new dictionary to store aggregated counts\n",
    "    new_dict = {}\n",
    "\n",
    "    # Combine counts for cable liberal news (CNN and MSNBC)\n",
    "    new_dict['cable_lib'] = np.array(counts_dict['CNN']) + np.array(counts_dict['MSNBC'])\n",
    "\n",
    "    # Combine counts for traditional TV news (ABC, CBS, NBC)\n",
    "    new_dict['tv_news'] = (\n",
    "        np.array(counts_dict['ABC']) + np.array(counts_dict['CBS']) + np.array(counts_dict['NBC'])\n",
    "    )\n",
    "\n",
    "    # Include counts for Fox without modification\n",
    "    new_dict['Fox'] = np.array(counts_dict['Fox'])\n",
    "\n",
    "    # Return the aggregated dictionary\n",
    "    return new_dict\n"
   ]
  },
  {
   "cell_type": "code",
   "execution_count": 18,
   "metadata": {},
   "outputs": [],
   "source": [
    "def compute_weighted_counts(combined_counts_dict, ratings_dict):\n",
    "    \"\"\"\n",
    "    Compute weighted counts for grouped categories based on ratings.\n",
    "\n",
    "    This function takes combined counts of categories (e.g., cable liberal, TV news, Fox) \n",
    "    and applies a weighting based on predefined ratings for specific news outlets.\n",
    "\n",
    "    Parameters:\n",
    "    -----------\n",
    "    combined_counts_dict : dict\n",
    "        A dictionary with keys 'cable_lib', 'tv_news', and 'Fox', where each value is \n",
    "        a list or array of counts representing the aggregated data for those categories.\n",
    "    ratings_dict : dict\n",
    "        A dictionary where keys are news outlet names (e.g., 'CNN', 'ABC', 'FOX'), and \n",
    "        values are numeric ratings used as weights for the counts.\n",
    "\n",
    "    Returns:\n",
    "    --------\n",
    "    dict\n",
    "        A new dictionary with the same keys as `combined_counts_dict`:\n",
    "        - 'cable_lib': Weighted counts for the cable liberal category.\n",
    "        - 'tv_news': Weighted counts for the TV news category.\n",
    "        - 'Fox': Weighted counts for Fox.\n",
    "    \"\"\"\n",
    "    # Initialize a new dictionary to store weighted counts\n",
    "    new_dict = {}\n",
    "\n",
    "    # Apply CNN ratings to cable_lib counts\n",
    "    new_dict['cable_lib'] = [item * ratings_dict['CNN'] for item in combined_counts_dict['cable_lib']]\n",
    "\n",
    "    # Apply ABC ratings to tv_news counts\n",
    "    new_dict['tv_news'] = [item * ratings_dict['ABC'] for item in combined_counts_dict['tv_news']]\n",
    "\n",
    "    # Apply FOX ratings to Fox counts\n",
    "    new_dict['Fox'] = [item * ratings_dict['FOX'] for item in combined_counts_dict['Fox']]\n",
    "\n",
    "    # Return the dictionary with weighted counts\n",
    "    return new_dict\n"
   ]
  },
  {
   "cell_type": "code",
   "execution_count": 19,
   "metadata": {},
   "outputs": [],
   "source": [
    "Q1_combined_counts_dict=combine_counts(Q1_counts)\n",
    "Q1_weighted_counts=compute_weighted_counts(Q1_combined_counts_dict,ratings_dict)\n",
    "\n",
    "Q2_combined_counts_dict=combine_counts(Q2_counts)\n",
    "Q2_weighted_counts=compute_weighted_counts(Q2_combined_counts_dict,ratings_dict)\n",
    "\n",
    "Q3_combined_counts_dict=combine_counts(Q3_counts)\n",
    "Q3_weighted_counts=compute_weighted_counts(Q3_combined_counts_dict,ratings_dict)"
   ]
  },
  {
   "cell_type": "code",
   "execution_count": 20,
   "metadata": {},
   "outputs": [],
   "source": [
    "\n",
    "def convert_to_serializable(d):\n",
    "    return {\n",
    "        k: float(v) if isinstance(v, (int, float)) else [float(x) for x in v]\n",
    "        for k, v in d.items()\n",
    "    }\n",
    "\n",
    "with open(\"output/Q1_weighted_counts.json\", \"w\") as f:\n",
    "    json.dump(convert_to_serializable(Q1_weighted_counts), f, indent=4)\n",
    "\n",
    "with open(\"output/Q2_weighted_counts.json\", \"w\") as f:\n",
    "    json.dump(convert_to_serializable(Q2_weighted_counts), f, indent=4)\n",
    "\n",
    "with open(\"output/Q3_weighted_counts.json\", \"w\") as f:\n",
    "    json.dump(convert_to_serializable(Q3_weighted_counts), f, indent=4)\n"
   ]
  },
  {
   "cell_type": "code",
   "execution_count": 21,
   "metadata": {},
   "outputs": [],
   "source": [
    "\n",
    "Q1_choices=[\"Acknowledges\",\"Neutral\",\"Denies\",\"Debate\",\"Unclear\"]\n",
    "Q2_choices=[\"Expresses climate concern\",\"Neutral\",\"Expresses opposition to climate concern\",\"Debate\",\"Unclear\"]\n",
    "Q3_choices=[\"Supports\",\"Neutral\",\"Opposes\",\"Debate\",\"Unclear\",\"No mention\"]\n",
    "\n",
    "short_Q2_choices=['Concern',\n",
    " 'Neutral',\n",
    " 'Opposition',\n",
    " 'Debate',\n",
    " 'Unclear']\n"
   ]
  },
  {
   "cell_type": "code",
   "execution_count": 22,
   "metadata": {},
   "outputs": [],
   "source": [
    "Q3_ratio = {\n",
    "    key: val[0] / (val[0] + val[2]) if (val[0] + val[2]) != 0 else np.nan\n",
    "    for key, val in Q3_combined_counts_dict.items()\n",
    "}\n",
    "\n"
   ]
  },
  {
   "cell_type": "code",
   "execution_count": 23,
   "metadata": {},
   "outputs": [
    {
     "data": {
      "text/plain": [
       "{'cable_lib': np.float64(0.9733096085409253),\n",
       " 'tv_news': np.float64(0.8780487804878049),\n",
       " 'Fox': np.float64(0.06319702602230483)}"
      ]
     },
     "execution_count": 23,
     "metadata": {},
     "output_type": "execute_result"
    }
   ],
   "source": [
    "Q3_ratio"
   ]
  },
  {
   "cell_type": "code",
   "execution_count": 24,
   "metadata": {},
   "outputs": [],
   "source": [
    "Q3_ratio_include_all = {\n",
    "    key: val[0] / (val[0] + val[1] + val[2]+ val[3]) if (val[0] + val[1] + val[2]+ val[3]) != 0 else np.nan\n",
    "    for key, val in Q3_combined_counts_dict.items()\n",
    "}\n"
   ]
  },
  {
   "cell_type": "markdown",
   "metadata": {},
   "source": [
    "## Make histogram"
   ]
  },
  {
   "cell_type": "code",
   "execution_count": 25,
   "metadata": {},
   "outputs": [],
   "source": [
    "# Select the relevant columns and rename them\n",
    "df_media_diet= dfmedia[[\"Respondent_Serial\", \"CNN_ord\", \"ABC_ord\", \"FOX_ord\", \"Weight\"]].copy()\n",
    "df_media_diet.rename(columns={\n",
    "    \"CNN_ord\": \"cable_lib\",\n",
    "    \"ABC_ord\": \"tv_news\",\n",
    "    \"FOX_ord\": \"fox_news\"\n",
    "}, inplace=True)\n",
    "\n",
    "# Add a column for the total\n",
    "df_media_diet[\"total\"] = df_media_diet[[\"cable_lib\", \"tv_news\", \"fox_news\"]].sum(axis=1)\n"
   ]
  },
  {
   "cell_type": "code",
   "execution_count": 26,
   "metadata": {},
   "outputs": [],
   "source": [
    "# Step 2: Normalize each row to sum to 1 (i.e., convert to fractions)\n",
    "fraction_cols = ['cable_lib', 'tv_news', 'fox_news']\n",
    "df_media_diet[fraction_cols] = df_media_diet[fraction_cols].div(\n",
    "    df_media_diet[fraction_cols].sum(axis=1), axis=0\n",
    ")\n"
   ]
  },
  {
   "cell_type": "code",
   "execution_count": 27,
   "metadata": {},
   "outputs": [],
   "source": [
    "df_media_diet = df_media_diet.dropna()"
   ]
  },
  {
   "cell_type": "code",
   "execution_count": 28,
   "metadata": {},
   "outputs": [],
   "source": [
    "\n",
    "# Step 3: Use ratios to compute percent_support column\n",
    "df_media_diet = df_media_diet.copy()\n",
    "df_media_diet[\"fraction_support\"] = (\n",
    "    df_media_diet[\"cable_lib\"] * Q3_ratio[\"cable_lib\"] +\n",
    "    df_media_diet[\"tv_news\"] * Q3_ratio[\"tv_news\"] +\n",
    "    df_media_diet[\"fox_news\"] * Q3_ratio[\"Fox\"]\n",
    ")\n",
    "\n",
    "df_media_diet[\"fraction_support_include_all\"] = (\n",
    "    df_media_diet[\"cable_lib\"] * Q3_ratio_include_all[\"cable_lib\"] +\n",
    "    df_media_diet[\"tv_news\"] * Q3_ratio_include_all[\"tv_news\"] +\n",
    "    df_media_diet[\"fox_news\"] * Q3_ratio_include_all[\"Fox\"]\n",
    ")\n",
    "\n"
   ]
  },
  {
   "cell_type": "code",
   "execution_count": null,
   "metadata": {},
   "outputs": [
    {
     "data": {
      "image/png": "[encoded data removed]",
      "text/plain": [
       "<Figure size 1026x1200 with 1 Axes>"
      ]
     },
     "metadata": {},
     "output_type": "display_data"
    }
   ],
   "source": [
    "# Define bin edges and centers\n",
    "bins = np.linspace(0, 1, 11)\n",
    "bin_centers = (bins[:-1] + bins[1:]) / 2\n",
    "bin_width = bins[1] - bins[0]\n",
    "\n",
    "# Histogram for fraction_support (left)\n",
    "left_counts, _ = np.histogram(df_media_diet[\"fraction_support\"], bins=bins, weights=df_media_diet[\"Weight\"])\n",
    "left_props = left_counts / left_counts.sum()\n",
    "\n",
    "# Histogram for fraction_support_include_all (right)\n",
    "right_counts, _ = np.histogram(df_media_diet[\"fraction_support_include_all\"], bins=bins,weights=df_media_diet[\"Weight\"])\n",
    "right_props = right_counts / right_counts.sum()\n",
    "\n",
    "# Gradient color (same across both sides)\n",
    "start_color = np.array(to_rgb(\"#f2d138\"))  # gold\n",
    "end_color = np.array(to_rgb(\"#19bdff\"))    # blue\n",
    "colors = [\n",
    "    start_color + (end_color - start_color) * i / (len(bin_centers) - 1)\n",
    "    for i in range(len(bin_centers))\n",
    "]\n",
    "\n",
    "# Plot\n",
    "fig, ax = plt.subplots(figsize=(3.42, 4), dpi=300)\n",
    "\n",
    "# Left side (fraction_support) — plot as negative bars\n",
    "for i in range(len(bin_centers)):\n",
    "    ax.barh(\n",
    "        bin_centers[i],\n",
    "        -left_props[i],  # negative for left side\n",
    "        height=bin_width,\n",
    "        color=colors[i],\n",
    "        edgecolor=\"white\"\n",
    "    )\n",
    "\n",
    "# Right side (fraction_support_include_all)\n",
    "for i in range(len(bin_centers)):\n",
    "    ax.barh(\n",
    "        bin_centers[i],\n",
    "        right_props[i],\n",
    "        height=bin_width,\n",
    "        color=colors[i],\n",
    "        edgecolor=\"white\"\n",
    "    )\n",
    "\n",
    "# add axis\n",
    "ax.axvline(0, color=myblack, linewidth=1)\n",
    "\n",
    "# # Annotate means as horizontal lines\n",
    "mu_left = np.average(\n",
    "    df_media_diet[\"fraction_support\"],\n",
    "    weights=df_media_diet[\"Weight\"]\n",
    ")\n",
    "\n",
    "mu_right= np.average(\n",
    "    df_media_diet[\"fraction_support_include_all\"],\n",
    "    weights=df_media_diet[\"Weight\"]\n",
    ")\n",
    "\n",
    "\n",
    "\n",
    "# Annotate mean lines (only on correct side)\n",
    "ax.hlines(mu_left, xmin=-max(left_props)*1.05/2, xmax=0, color=myblack, linestyle='--', linewidth=1)\n",
    "ax.hlines(mu_right, xmin=0, xmax=max(right_props)*1.05/2.5, color=myblack, linestyle='--', linewidth=1)\n",
    "\n",
    "# Add labels near ends of lines\n",
    "ax.text(\n",
    "    -max(left_props)*1.05/2 - 0.005, mu_left,\n",
    "    f\"$\\\\mu$ = {mu_left*100:.0f}%\",\n",
    "    ha='right',\n",
    "    va='center',\n",
    "    color=myblack,\n",
    "    fontsize=SMALL_SIZE\n",
    ")\n",
    "\n",
    "ax.text(\n",
    "    max(right_props)*1.05/2.5 + 0.005, mu_right,\n",
    "    f\"$\\\\mu$ = {mu_right*100:.0f}%\",\n",
    "    ha='left',\n",
    "    va='center',\n",
    "    color=myblack,\n",
    "    fontsize=SMALL_SIZE\n",
    ")\n",
    "\n",
    "\n",
    "# Add arrows and annotations\n",
    "ax.annotate(\"\", xy=(-0.1,0.2), xytext=(-0.47,0.2), arrowprops=dict(facecolor=myblack, arrowstyle='<-'))\n",
    "ax.annotate(\"Compared to\\nopposition\", xy=(-0.1, 0.11), size=\"small\", ha=\"right\",color=myblack)\n",
    "\n",
    "ax.annotate(\"\", xy=(0.1,0.2), xytext=(0.47,0.2), arrowprops=dict(facecolor=myblack, arrowstyle='<-'))\n",
    "ax.annotate(\"Compared to\\nall coverage\", xy=(0.1, 0.11), size=\"small\", ha=\"left\")\n",
    "\n",
    "# Formatting\n",
    "ax.set_xlabel(\"Percent of Respondents\", fontsize=\"small\", color=myblack)\n",
    "ax.set_ylabel(\"Percent of support for climate policy\", fontsize=\"small\", color=myblack)\n",
    "# ax.set_title(\"Percent of support for climate policy\", fontsize=MEDIUM_SIZE, color=myblack)\n",
    "\n",
    "# Format x-axis as percent, centered at 0\n",
    "ax.xaxis.set_major_formatter(FuncFormatter(lambda x, _: f\"{abs(int(round(x * 100)))}%\"))\n",
    "ax.set_xlim(-max(right_props)*1.1, max(right_props)*1.1)\n",
    "\n",
    "# Format y-axis as percent (media diet support bins)\n",
    "ax.yaxis.set_major_formatter(PercentFormatter(xmax=1))\n",
    "ax.tick_params(axis='both', labelsize=SMALL_SIZE, colors=myblack)\n",
    "ax.set_ylim(0,1)\n",
    "\n",
    "# Style spines\n",
    "for spine in ax.spines.values():\n",
    "    spine.set_color(myblack)\n",
    "\n",
    "sns.despine()\n",
    "plt.tight_layout()\n",
    "plt.savefig(here('99_figures/weighted_by_views_individuals.pdf'))\n",
    "plt.show()\n"
   ]
  },
  {
   "cell_type": "code",
   "execution_count": null,
   "metadata": {},
   "outputs": [],
   "source": []
  }
 ],
 "metadata": {
  "kernelspec": {
   "display_name": ".venv",
   "language": "python",
   "name": "python3"
  },
  "language_info": {
   "codemirror_mode": {
    "name": "ipython",
    "version": 3
   },
   "file_extension": ".py",
   "mimetype": "text/x-python",
   "name": "python",
   "nbconvert_exporter": "python",
   "pygments_lexer": "ipython3",
   "version": "3.13.1"
  },
  "orig_nbformat": 4
 },
 "nbformat": 4,
 "nbformat_minor": 2
}
